{
 "cells": [
  {
   "cell_type": "markdown",
   "id": "aecd8e9d-0388-4b4d-8412-a29c2cadb720",
   "metadata": {},
   "source": [
    "## BAF507 금융데이터베이스-Exercise3"
   ]
  },
  {
   "cell_type": "markdown",
   "id": "78ceb7a7-3ca9-4e59-a12c-601f1041b353",
   "metadata": {},
   "source": [
    "# 정회종(20214125)"
   ]
  },
  {
   "cell_type": "markdown",
   "id": "218d6ba3-6ad5-4ec0-b351-07e112f85e7d",
   "metadata": {},
   "source": [
    "# 1. 환율 데이터 다운로드"
   ]
  },
  {
   "cell_type": "code",
   "execution_count": 1,
   "id": "88ecede4-3955-4e5c-80fd-a5a1ceaea8e1",
   "metadata": {},
   "outputs": [],
   "source": [
    "import pandas as pd"
   ]
  },
  {
   "cell_type": "code",
   "execution_count": 2,
   "id": "7b116dda-4f55-4a75-b136-a7917e183625",
   "metadata": {},
   "outputs": [],
   "source": [
    "df_xr = pd.read_excel('data/krw_usd_xr.xlsx')"
   ]
  },
  {
   "cell_type": "code",
   "execution_count": 3,
   "id": "c8160939-3616-4bad-ac1d-15c1005d5a6c",
   "metadata": {},
   "outputs": [
    {
     "data": {
      "text/html": [
       "<div>\n",
       "<style scoped>\n",
       "    .dataframe tbody tr th:only-of-type {\n",
       "        vertical-align: middle;\n",
       "    }\n",
       "\n",
       "    .dataframe tbody tr th {\n",
       "        vertical-align: top;\n",
       "    }\n",
       "\n",
       "    .dataframe thead th {\n",
       "        text-align: right;\n",
       "    }\n",
       "</style>\n",
       "<table border=\"1\" class=\"dataframe\">\n",
       "  <thead>\n",
       "    <tr style=\"text-align: right;\">\n",
       "      <th></th>\n",
       "      <th>날짜</th>\n",
       "      <th>주요국통화의 대원화 환율 - 원/미국달러(매매기준율)</th>\n",
       "    </tr>\n",
       "  </thead>\n",
       "  <tbody>\n",
       "    <tr>\n",
       "      <th>0</th>\n",
       "      <td>1964-05-04</td>\n",
       "      <td>255.77</td>\n",
       "    </tr>\n",
       "    <tr>\n",
       "      <th>1</th>\n",
       "      <td>1964-05-05</td>\n",
       "      <td>255.77</td>\n",
       "    </tr>\n",
       "    <tr>\n",
       "      <th>2</th>\n",
       "      <td>1964-05-06</td>\n",
       "      <td>255.77</td>\n",
       "    </tr>\n",
       "  </tbody>\n",
       "</table>\n",
       "</div>"
      ],
      "text/plain": [
       "           날짜  주요국통화의 대원화 환율 - 원/미국달러(매매기준율)\n",
       "0  1964-05-04                         255.77\n",
       "1  1964-05-05                         255.77\n",
       "2  1964-05-06                         255.77"
      ]
     },
     "execution_count": 3,
     "metadata": {},
     "output_type": "execute_result"
    }
   ],
   "source": [
    "df_xr.head(3)"
   ]
  },
  {
   "cell_type": "code",
   "execution_count": 4,
   "id": "6d3b44c3-ebe1-4463-9000-22a591f82b72",
   "metadata": {},
   "outputs": [],
   "source": [
    "df_xr['날짜'] = pd.to_datetime(df_xr['날짜'])"
   ]
  },
  {
   "cell_type": "code",
   "execution_count": 5,
   "id": "85200191-5043-497b-94cc-97258aad4ef3",
   "metadata": {},
   "outputs": [],
   "source": [
    "df_xr = df_xr.set_index('날짜')"
   ]
  },
  {
   "cell_type": "code",
   "execution_count": 8,
   "id": "ba4610b7-cf97-49d6-9bc2-5797295690d0",
   "metadata": {},
   "outputs": [],
   "source": [
    "df_xr.columns = ['KRW/USD']"
   ]
  },
  {
   "cell_type": "code",
   "execution_count": 9,
   "id": "f881a512-eb68-4bf8-88e1-a345512c5aec",
   "metadata": {},
   "outputs": [
    {
     "data": {
      "text/html": [
       "<div>\n",
       "<style scoped>\n",
       "    .dataframe tbody tr th:only-of-type {\n",
       "        vertical-align: middle;\n",
       "    }\n",
       "\n",
       "    .dataframe tbody tr th {\n",
       "        vertical-align: top;\n",
       "    }\n",
       "\n",
       "    .dataframe thead th {\n",
       "        text-align: right;\n",
       "    }\n",
       "</style>\n",
       "<table border=\"1\" class=\"dataframe\">\n",
       "  <thead>\n",
       "    <tr style=\"text-align: right;\">\n",
       "      <th></th>\n",
       "      <th>KRW/USD</th>\n",
       "    </tr>\n",
       "    <tr>\n",
       "      <th>날짜</th>\n",
       "      <th></th>\n",
       "    </tr>\n",
       "  </thead>\n",
       "  <tbody>\n",
       "    <tr>\n",
       "      <th>1964-05-04</th>\n",
       "      <td>255.77</td>\n",
       "    </tr>\n",
       "    <tr>\n",
       "      <th>1964-05-05</th>\n",
       "      <td>255.77</td>\n",
       "    </tr>\n",
       "    <tr>\n",
       "      <th>1964-05-06</th>\n",
       "      <td>255.77</td>\n",
       "    </tr>\n",
       "  </tbody>\n",
       "</table>\n",
       "</div>"
      ],
      "text/plain": [
       "            KRW/USD\n",
       "날짜                 \n",
       "1964-05-04   255.77\n",
       "1964-05-05   255.77\n",
       "1964-05-06   255.77"
      ]
     },
     "execution_count": 9,
     "metadata": {},
     "output_type": "execute_result"
    }
   ],
   "source": [
    "df_xr.head(3)"
   ]
  },
  {
   "cell_type": "code",
   "execution_count": 10,
   "id": "014172b9-da09-42a7-b217-8ba3957502b0",
   "metadata": {},
   "outputs": [],
   "source": [
    "import matplotlib.pyplot as plt"
   ]
  },
  {
   "cell_type": "code",
   "execution_count": 11,
   "id": "ca261011-d4e1-4aa3-9061-f4dc50c0fdab",
   "metadata": {},
   "outputs": [],
   "source": [
    "plt.rcParams['figure.figsize']=[10,4]"
   ]
  },
  {
   "cell_type": "code",
   "execution_count": 12,
   "id": "d4a1ee89-789e-4b50-9123-9a37beb8ccc1",
   "metadata": {},
   "outputs": [
    {
     "data": {
      "image/png": "[encoded data removed]",
      "text/plain": [
       "<Figure size 720x288 with 1 Axes>"
      ]
     },
     "metadata": {
      "needs_background": "light"
     },
     "output_type": "display_data"
    }
   ],
   "source": [
    "plt.plot(df_xr['KRW/USD'])\n",
    "plt.show()"
   ]
  },
  {
   "cell_type": "code",
   "execution_count": 13,
   "id": "eed72098-dcd7-4d47-9a07-3613e0d520ac",
   "metadata": {},
   "outputs": [
    {
     "data": {
      "image/png": "[encoded data removed]",
      "text/plain": [
       "<Figure size 720x288 with 1 Axes>"
      ]
     },
     "metadata": {
      "needs_background": "light"
     },
     "output_type": "display_data"
    }
   ],
   "source": [
    "plt.plot(df_xr.loc['1980-01-01':'1980-03-31'])\n",
    "plt.show()"
   ]
  },
  {
   "cell_type": "code",
   "execution_count": 14,
   "id": "7a09b99d-5d9e-4057-9bef-f491c80a715a",
   "metadata": {},
   "outputs": [],
   "source": [
    "df_xr = df_xr.loc['1980-03-01':]"
   ]
  },
  {
   "cell_type": "code",
   "execution_count": 15,
   "id": "b0fee4b9-7ae1-4a29-8b67-b91386585351",
   "metadata": {},
   "outputs": [
    {
     "data": {
      "image/png": "[encoded data removed]",
      "text/plain": [
       "<Figure size 720x288 with 1 Axes>"
      ]
     },
     "metadata": {
      "needs_background": "light"
     },
     "output_type": "display_data"
    }
   ],
   "source": [
    "plt.plot(df_xr)\n",
    "plt.show()"
   ]
  },
  {
   "cell_type": "markdown",
   "id": "d3d2a236-ff55-47c4-87f8-64a5b19d6aab",
   "metadata": {},
   "source": [
    "## 2. Convert to monthly observations"
   ]
  },
  {
   "cell_type": "markdown",
   "id": "91761f70-b671-483a-9a3f-62eb9cc264c7",
   "metadata": {},
   "source": [
    "# (1) Monthly average - old and hard way"
   ]
  },
  {
   "cell_type": "code",
   "execution_count": 19,
   "id": "8cd5a42f-1f31-43b2-a6f1-34dba5ecaddc",
   "metadata": {},
   "outputs": [],
   "source": [
    "df_xr['ym'] = df_xr.index.year * 100 + df_xr.index.month"
   ]
  },
  {
   "cell_type": "code",
   "execution_count": 21,
   "id": "037bc716-7d59-4cf3-9cff-208933876cd5",
   "metadata": {},
   "outputs": [
    {
     "data": {
      "text/plain": [
       "ym\n",
       "198003     583.504167\n",
       "198004     589.808000\n",
       "198005     593.600000\n",
       "198006     598.945833\n",
       "198007     605.400000\n",
       "             ...     \n",
       "202108    1160.338095\n",
       "202109    1169.542105\n",
       "202110    1182.821053\n",
       "202111    1182.909091\n",
       "202112    1183.315000\n",
       "Name: KRW/USD, Length: 502, dtype: float64"
      ]
     },
     "execution_count": 21,
     "metadata": {},
     "output_type": "execute_result"
    }
   ],
   "source": [
    "df_xr.groupby('ym')['KRW/USD'].mean()"
   ]
  },
  {
   "cell_type": "code",
   "execution_count": 22,
   "id": "6c30fb7a-30b9-4259-a2f0-3cd5a0ca03cd",
   "metadata": {},
   "outputs": [],
   "source": [
    "del df_xr['ym']"
   ]
  },
  {
   "cell_type": "markdown",
   "id": "53035402-a51b-448d-b1c6-4365e5a142cb",
   "metadata": {},
   "source": [
    "# (2) Monthly average - easy way"
   ]
  },
  {
   "cell_type": "code",
   "execution_count": 23,
   "id": "5c30a945-778d-46fe-af7a-abedb8e3245c",
   "metadata": {},
   "outputs": [
    {
     "data": {
      "text/html": [
       "<div>\n",
       "<style scoped>\n",
       "    .dataframe tbody tr th:only-of-type {\n",
       "        vertical-align: middle;\n",
       "    }\n",
       "\n",
       "    .dataframe tbody tr th {\n",
       "        vertical-align: top;\n",
       "    }\n",
       "\n",
       "    .dataframe thead th {\n",
       "        text-align: right;\n",
       "    }\n",
       "</style>\n",
       "<table border=\"1\" class=\"dataframe\">\n",
       "  <thead>\n",
       "    <tr style=\"text-align: right;\">\n",
       "      <th></th>\n",
       "      <th>KRW/USD</th>\n",
       "    </tr>\n",
       "    <tr>\n",
       "      <th>날짜</th>\n",
       "      <th></th>\n",
       "    </tr>\n",
       "  </thead>\n",
       "  <tbody>\n",
       "    <tr>\n",
       "      <th>1980-03-31</th>\n",
       "      <td>583.504167</td>\n",
       "    </tr>\n",
       "    <tr>\n",
       "      <th>1980-04-30</th>\n",
       "      <td>589.808000</td>\n",
       "    </tr>\n",
       "    <tr>\n",
       "      <th>1980-05-31</th>\n",
       "      <td>593.600000</td>\n",
       "    </tr>\n",
       "    <tr>\n",
       "      <th>1980-06-30</th>\n",
       "      <td>598.945833</td>\n",
       "    </tr>\n",
       "    <tr>\n",
       "      <th>1980-07-31</th>\n",
       "      <td>605.400000</td>\n",
       "    </tr>\n",
       "    <tr>\n",
       "      <th>...</th>\n",
       "      <td>...</td>\n",
       "    </tr>\n",
       "    <tr>\n",
       "      <th>2021-08-31</th>\n",
       "      <td>1160.338095</td>\n",
       "    </tr>\n",
       "    <tr>\n",
       "      <th>2021-09-30</th>\n",
       "      <td>1169.542105</td>\n",
       "    </tr>\n",
       "    <tr>\n",
       "      <th>2021-10-31</th>\n",
       "      <td>1182.821053</td>\n",
       "    </tr>\n",
       "    <tr>\n",
       "      <th>2021-11-30</th>\n",
       "      <td>1182.909091</td>\n",
       "    </tr>\n",
       "    <tr>\n",
       "      <th>2021-12-31</th>\n",
       "      <td>1183.315000</td>\n",
       "    </tr>\n",
       "  </tbody>\n",
       "</table>\n",
       "<p>502 rows × 1 columns</p>\n",
       "</div>"
      ],
      "text/plain": [
       "                KRW/USD\n",
       "날짜                     \n",
       "1980-03-31   583.504167\n",
       "1980-04-30   589.808000\n",
       "1980-05-31   593.600000\n",
       "1980-06-30   598.945833\n",
       "1980-07-31   605.400000\n",
       "...                 ...\n",
       "2021-08-31  1160.338095\n",
       "2021-09-30  1169.542105\n",
       "2021-10-31  1182.821053\n",
       "2021-11-30  1182.909091\n",
       "2021-12-31  1183.315000\n",
       "\n",
       "[502 rows x 1 columns]"
      ]
     },
     "execution_count": 23,
     "metadata": {},
     "output_type": "execute_result"
    }
   ],
   "source": [
    "df_xr.resample('M').mean()"
   ]
  },
  {
   "cell_type": "markdown",
   "id": "11858692-bd66-410d-b87d-94bc0c2073aa",
   "metadata": {},
   "source": [
    "# (3) End-of-month observations"
   ]
  },
  {
   "cell_type": "code",
   "execution_count": 25,
   "id": "74eef069-a168-41f0-942c-43a806de20b4",
   "metadata": {},
   "outputs": [],
   "source": [
    "df_monthly = df_xr.resample('M').last()"
   ]
  },
  {
   "cell_type": "code",
   "execution_count": 26,
   "id": "e0cecd5f-f289-4e93-8d0c-3b3a308c712e",
   "metadata": {},
   "outputs": [
    {
     "data": {
      "text/html": [
       "<div>\n",
       "<style scoped>\n",
       "    .dataframe tbody tr th:only-of-type {\n",
       "        vertical-align: middle;\n",
       "    }\n",
       "\n",
       "    .dataframe tbody tr th {\n",
       "        vertical-align: top;\n",
       "    }\n",
       "\n",
       "    .dataframe thead th {\n",
       "        text-align: right;\n",
       "    }\n",
       "</style>\n",
       "<table border=\"1\" class=\"dataframe\">\n",
       "  <thead>\n",
       "    <tr style=\"text-align: right;\">\n",
       "      <th></th>\n",
       "      <th>KRW/USD</th>\n",
       "    </tr>\n",
       "    <tr>\n",
       "      <th>날짜</th>\n",
       "      <th></th>\n",
       "    </tr>\n",
       "  </thead>\n",
       "  <tbody>\n",
       "    <tr>\n",
       "      <th>1980-03-31</th>\n",
       "      <td>586.1</td>\n",
       "    </tr>\n",
       "    <tr>\n",
       "      <th>1980-04-30</th>\n",
       "      <td>590.5</td>\n",
       "    </tr>\n",
       "    <tr>\n",
       "      <th>1980-05-31</th>\n",
       "      <td>596.2</td>\n",
       "    </tr>\n",
       "    <tr>\n",
       "      <th>1980-06-30</th>\n",
       "      <td>603.0</td>\n",
       "    </tr>\n",
       "    <tr>\n",
       "      <th>1980-07-31</th>\n",
       "      <td>612.7</td>\n",
       "    </tr>\n",
       "  </tbody>\n",
       "</table>\n",
       "</div>"
      ],
      "text/plain": [
       "            KRW/USD\n",
       "날짜                 \n",
       "1980-03-31    586.1\n",
       "1980-04-30    590.5\n",
       "1980-05-31    596.2\n",
       "1980-06-30    603.0\n",
       "1980-07-31    612.7"
      ]
     },
     "execution_count": 26,
     "metadata": {},
     "output_type": "execute_result"
    }
   ],
   "source": [
    "df_monthly.head()"
   ]
  },
  {
   "cell_type": "code",
   "execution_count": 27,
   "id": "e060729a-4ccc-4663-b1cf-72b21c918393",
   "metadata": {},
   "outputs": [],
   "source": [
    "from pandas.tseries.offsets import MonthBegin, MonthEnd"
   ]
  },
  {
   "cell_type": "code",
   "execution_count": null,
   "id": "717be6ec-295a-478d-b824-e3ab4ef00891",
   "metadata": {},
   "outputs": [],
   "source": []
  },
  {
   "cell_type": "markdown",
   "id": "7303252b-4ea2-48b5-8abe-87be9ba2b6c6",
   "metadata": {},
   "source": [
    "# 3. 잘못된 환율 예측 : 가격을 그대로 사용하기"
   ]
  },
  {
   "cell_type": "code",
   "execution_count": 28,
   "id": "c2d0cb8d-a133-4155-b681-2eeecac53c24",
   "metadata": {},
   "outputs": [],
   "source": [
    "import statsmodels.api as sm"
   ]
  },
  {
   "cell_type": "code",
   "execution_count": 31,
   "id": "fec35ee7-6a9a-466b-9ae3-f8418fae83f4",
   "metadata": {},
   "outputs": [],
   "source": [
    "X = df_monthly.iloc[:-1]\n",
    "X = sm.add_constant(X)"
   ]
  },
  {
   "cell_type": "code",
   "execution_count": 32,
   "id": "d6dd4cca-3ede-4962-a1ab-bbe4c6bf7594",
   "metadata": {},
   "outputs": [],
   "source": [
    "Y = df_monthly.iloc[1:]"
   ]
  },
  {
   "cell_type": "code",
   "execution_count": 33,
   "id": "8dd7f01f-64d2-484f-aa54-5175214471ea",
   "metadata": {},
   "outputs": [],
   "source": [
    "model = sm.OLS(Y,X.values)"
   ]
  },
  {
   "cell_type": "code",
   "execution_count": 34,
   "id": "b5347ab8-c0fd-4060-b380-d483cfe71af6",
   "metadata": {},
   "outputs": [],
   "source": [
    "results = model.fit()"
   ]
  },
  {
   "cell_type": "code",
   "execution_count": 35,
   "id": "cf6770d6-1bcb-4433-a1b1-ff160a424609",
   "metadata": {},
   "outputs": [
    {
     "data": {
      "text/html": [
       "<table class=\"simpletable\">\n",
       "<caption>OLS Regression Results</caption>\n",
       "<tr>\n",
       "  <th>Dep. Variable:</th>         <td>KRW/USD</td>     <th>  R-squared:         </th> <td>   0.971</td> \n",
       "</tr>\n",
       "<tr>\n",
       "  <th>Model:</th>                   <td>OLS</td>       <th>  Adj. R-squared:    </th> <td>   0.971</td> \n",
       "</tr>\n",
       "<tr>\n",
       "  <th>Method:</th>             <td>Least Squares</td>  <th>  F-statistic:       </th> <td>1.682e+04</td>\n",
       "</tr>\n",
       "<tr>\n",
       "  <th>Date:</th>             <td>Tue, 28 Dec 2021</td> <th>  Prob (F-statistic):</th>  <td>  0.00</td>  \n",
       "</tr>\n",
       "<tr>\n",
       "  <th>Time:</th>                 <td>21:39:26</td>     <th>  Log-Likelihood:    </th> <td> -2493.7</td> \n",
       "</tr>\n",
       "<tr>\n",
       "  <th>No. Observations:</th>      <td>   501</td>      <th>  AIC:               </th> <td>   4991.</td> \n",
       "</tr>\n",
       "<tr>\n",
       "  <th>Df Residuals:</th>          <td>   499</td>      <th>  BIC:               </th> <td>   5000.</td> \n",
       "</tr>\n",
       "<tr>\n",
       "  <th>Df Model:</th>              <td>     1</td>      <th>                     </th>     <td> </td>    \n",
       "</tr>\n",
       "<tr>\n",
       "  <th>Covariance Type:</th>      <td>nonrobust</td>    <th>                     </th>     <td> </td>    \n",
       "</tr>\n",
       "</table>\n",
       "<table class=\"simpletable\">\n",
       "<tr>\n",
       "    <td></td>       <th>coef</th>     <th>std err</th>      <th>t</th>      <th>P>|t|</th>  <th>[0.025</th>    <th>0.975]</th>  \n",
       "</tr>\n",
       "<tr>\n",
       "  <th>const</th> <td>   18.2303</td> <td>    7.635</td> <td>    2.388</td> <td> 0.017</td> <td>    3.229</td> <td>   33.232</td>\n",
       "</tr>\n",
       "<tr>\n",
       "  <th>x1</th>    <td>    0.9827</td> <td>    0.008</td> <td>  129.690</td> <td> 0.000</td> <td>    0.968</td> <td>    0.998</td>\n",
       "</tr>\n",
       "</table>\n",
       "<table class=\"simpletable\">\n",
       "<tr>\n",
       "  <th>Omnibus:</th>       <td>172.410</td> <th>  Durbin-Watson:     </th> <td>   1.798</td>\n",
       "</tr>\n",
       "<tr>\n",
       "  <th>Prob(Omnibus):</th> <td> 0.000</td>  <th>  Jarque-Bera (JB):  </th> <td>7389.649</td>\n",
       "</tr>\n",
       "<tr>\n",
       "  <th>Skew:</th>          <td> 0.718</td>  <th>  Prob(JB):          </th> <td>    0.00</td>\n",
       "</tr>\n",
       "<tr>\n",
       "  <th>Kurtosis:</th>      <td>21.760</td>  <th>  Cond. No.          </th> <td>4.90e+03</td>\n",
       "</tr>\n",
       "</table><br/><br/>Notes:<br/>[1] Standard Errors assume that the covariance matrix of the errors is correctly specified.<br/>[2] The condition number is large, 4.9e+03. This might indicate that there are<br/>strong multicollinearity or other numerical problems."
      ],
      "text/plain": [
       "<class 'statsmodels.iolib.summary.Summary'>\n",
       "\"\"\"\n",
       "                            OLS Regression Results                            \n",
       "==============================================================================\n",
       "Dep. Variable:                KRW/USD   R-squared:                       0.971\n",
       "Model:                            OLS   Adj. R-squared:                  0.971\n",
       "Method:                 Least Squares   F-statistic:                 1.682e+04\n",
       "Date:                Tue, 28 Dec 2021   Prob (F-statistic):               0.00\n",
       "Time:                        21:39:26   Log-Likelihood:                -2493.7\n",
       "No. Observations:                 501   AIC:                             4991.\n",
       "Df Residuals:                     499   BIC:                             5000.\n",
       "Df Model:                           1                                         \n",
       "Covariance Type:            nonrobust                                         \n",
       "==============================================================================\n",
       "                 coef    std err          t      P>|t|      [0.025      0.975]\n",
       "------------------------------------------------------------------------------\n",
       "const         18.2303      7.635      2.388      0.017       3.229      33.232\n",
       "x1             0.9827      0.008    129.690      0.000       0.968       0.998\n",
       "==============================================================================\n",
       "Omnibus:                      172.410   Durbin-Watson:                   1.798\n",
       "Prob(Omnibus):                  0.000   Jarque-Bera (JB):             7389.649\n",
       "Skew:                           0.718   Prob(JB):                         0.00\n",
       "Kurtosis:                      21.760   Cond. No.                     4.90e+03\n",
       "==============================================================================\n",
       "\n",
       "Notes:\n",
       "[1] Standard Errors assume that the covariance matrix of the errors is correctly specified.\n",
       "[2] The condition number is large, 4.9e+03. This might indicate that there are\n",
       "strong multicollinearity or other numerical problems.\n",
       "\"\"\""
      ]
     },
     "execution_count": 35,
     "metadata": {},
     "output_type": "execute_result"
    }
   ],
   "source": [
    "results.summary()"
   ]
  },
  {
   "cell_type": "markdown",
   "id": "935aabef-3a3f-4ecd-b962-29dba98c4748",
   "metadata": {},
   "source": [
    "# 4. 올바른 환율 예측:변화율사용하기"
   ]
  },
  {
   "cell_type": "markdown",
   "id": "5d5f5bd2-c7cf-47fd-b88d-e2f084aa776b",
   "metadata": {},
   "source": [
    "# 변화율 계산방법 1:Shift"
   ]
  },
  {
   "cell_type": "code",
   "execution_count": 38,
   "id": "6f23419d-07ca-4bb0-8ed7-504138e4c6a9",
   "metadata": {},
   "outputs": [],
   "source": [
    "df_monthly['lagged'] = df_monthly.shift(1)"
   ]
  },
  {
   "cell_type": "code",
   "execution_count": 40,
   "id": "91b21bc2-ec84-4580-b536-849567600463",
   "metadata": {},
   "outputs": [],
   "source": [
    "df_monthly['ret1'] = (df_monthly['KRW/USD'] / df_monthly['lagged']-1)*100"
   ]
  },
  {
   "cell_type": "code",
   "execution_count": 41,
   "id": "b94c7623-22db-4a5d-8fd8-64b379fc2a5b",
   "metadata": {},
   "outputs": [
    {
     "data": {
      "text/html": [
       "<div>\n",
       "<style scoped>\n",
       "    .dataframe tbody tr th:only-of-type {\n",
       "        vertical-align: middle;\n",
       "    }\n",
       "\n",
       "    .dataframe tbody tr th {\n",
       "        vertical-align: top;\n",
       "    }\n",
       "\n",
       "    .dataframe thead th {\n",
       "        text-align: right;\n",
       "    }\n",
       "</style>\n",
       "<table border=\"1\" class=\"dataframe\">\n",
       "  <thead>\n",
       "    <tr style=\"text-align: right;\">\n",
       "      <th></th>\n",
       "      <th>KRW/USD</th>\n",
       "      <th>lagged</th>\n",
       "      <th>ret1</th>\n",
       "    </tr>\n",
       "    <tr>\n",
       "      <th>날짜</th>\n",
       "      <th></th>\n",
       "      <th></th>\n",
       "      <th></th>\n",
       "    </tr>\n",
       "  </thead>\n",
       "  <tbody>\n",
       "    <tr>\n",
       "      <th>1980-03-31</th>\n",
       "      <td>586.1</td>\n",
       "      <td>NaN</td>\n",
       "      <td>NaN</td>\n",
       "    </tr>\n",
       "    <tr>\n",
       "      <th>1980-04-30</th>\n",
       "      <td>590.5</td>\n",
       "      <td>586.1</td>\n",
       "      <td>0.750725</td>\n",
       "    </tr>\n",
       "    <tr>\n",
       "      <th>1980-05-31</th>\n",
       "      <td>596.2</td>\n",
       "      <td>590.5</td>\n",
       "      <td>0.965284</td>\n",
       "    </tr>\n",
       "    <tr>\n",
       "      <th>1980-06-30</th>\n",
       "      <td>603.0</td>\n",
       "      <td>596.2</td>\n",
       "      <td>1.140557</td>\n",
       "    </tr>\n",
       "    <tr>\n",
       "      <th>1980-07-31</th>\n",
       "      <td>612.7</td>\n",
       "      <td>603.0</td>\n",
       "      <td>1.608624</td>\n",
       "    </tr>\n",
       "  </tbody>\n",
       "</table>\n",
       "</div>"
      ],
      "text/plain": [
       "            KRW/USD  lagged      ret1\n",
       "날짜                                   \n",
       "1980-03-31    586.1     NaN       NaN\n",
       "1980-04-30    590.5   586.1  0.750725\n",
       "1980-05-31    596.2   590.5  0.965284\n",
       "1980-06-30    603.0   596.2  1.140557\n",
       "1980-07-31    612.7   603.0  1.608624"
      ]
     },
     "execution_count": 41,
     "metadata": {},
     "output_type": "execute_result"
    }
   ],
   "source": [
    "df_monthly.head()"
   ]
  },
  {
   "cell_type": "markdown",
   "id": "87ea0f13-26fd-466a-b952-382c23357c29",
   "metadata": {},
   "source": [
    "# 변화율 계산방법 2:pct_change"
   ]
  },
  {
   "cell_type": "code",
   "execution_count": 42,
   "id": "ec097a4b-702a-41aa-8c63-23c0c00c9385",
   "metadata": {},
   "outputs": [],
   "source": [
    "df_monthly['ret2'] = df_monthly['KRW/USD'].pct_change()*100"
   ]
  },
  {
   "cell_type": "code",
   "execution_count": 43,
   "id": "a4d60be9-1e7f-42f8-b71a-0cfa701a707e",
   "metadata": {},
   "outputs": [
    {
     "data": {
      "text/html": [
       "<div>\n",
       "<style scoped>\n",
       "    .dataframe tbody tr th:only-of-type {\n",
       "        vertical-align: middle;\n",
       "    }\n",
       "\n",
       "    .dataframe tbody tr th {\n",
       "        vertical-align: top;\n",
       "    }\n",
       "\n",
       "    .dataframe thead th {\n",
       "        text-align: right;\n",
       "    }\n",
       "</style>\n",
       "<table border=\"1\" class=\"dataframe\">\n",
       "  <thead>\n",
       "    <tr style=\"text-align: right;\">\n",
       "      <th></th>\n",
       "      <th>KRW/USD</th>\n",
       "      <th>lagged</th>\n",
       "      <th>ret1</th>\n",
       "      <th>ret2</th>\n",
       "    </tr>\n",
       "    <tr>\n",
       "      <th>날짜</th>\n",
       "      <th></th>\n",
       "      <th></th>\n",
       "      <th></th>\n",
       "      <th></th>\n",
       "    </tr>\n",
       "  </thead>\n",
       "  <tbody>\n",
       "    <tr>\n",
       "      <th>1980-03-31</th>\n",
       "      <td>586.1</td>\n",
       "      <td>NaN</td>\n",
       "      <td>NaN</td>\n",
       "      <td>NaN</td>\n",
       "    </tr>\n",
       "    <tr>\n",
       "      <th>1980-04-30</th>\n",
       "      <td>590.5</td>\n",
       "      <td>586.1</td>\n",
       "      <td>0.750725</td>\n",
       "      <td>0.750725</td>\n",
       "    </tr>\n",
       "    <tr>\n",
       "      <th>1980-05-31</th>\n",
       "      <td>596.2</td>\n",
       "      <td>590.5</td>\n",
       "      <td>0.965284</td>\n",
       "      <td>0.965284</td>\n",
       "    </tr>\n",
       "    <tr>\n",
       "      <th>1980-06-30</th>\n",
       "      <td>603.0</td>\n",
       "      <td>596.2</td>\n",
       "      <td>1.140557</td>\n",
       "      <td>1.140557</td>\n",
       "    </tr>\n",
       "    <tr>\n",
       "      <th>1980-07-31</th>\n",
       "      <td>612.7</td>\n",
       "      <td>603.0</td>\n",
       "      <td>1.608624</td>\n",
       "      <td>1.608624</td>\n",
       "    </tr>\n",
       "  </tbody>\n",
       "</table>\n",
       "</div>"
      ],
      "text/plain": [
       "            KRW/USD  lagged      ret1      ret2\n",
       "날짜                                             \n",
       "1980-03-31    586.1     NaN       NaN       NaN\n",
       "1980-04-30    590.5   586.1  0.750725  0.750725\n",
       "1980-05-31    596.2   590.5  0.965284  0.965284\n",
       "1980-06-30    603.0   596.2  1.140557  1.140557\n",
       "1980-07-31    612.7   603.0  1.608624  1.608624"
      ]
     },
     "execution_count": 43,
     "metadata": {},
     "output_type": "execute_result"
    }
   ],
   "source": [
    "df_monthly.head()"
   ]
  },
  {
   "cell_type": "markdown",
   "id": "c3711404-cfe9-4f13-bad7-1aa963e34e7c",
   "metadata": {},
   "source": [
    "# 변화율 summary stat보기"
   ]
  },
  {
   "cell_type": "code",
   "execution_count": 44,
   "id": "6d51f962-9f07-4c5d-a102-f461ea016820",
   "metadata": {},
   "outputs": [
    {
     "data": {
      "text/plain": [
       "count    501.000000\n",
       "mean       0.181510\n",
       "std        2.888001\n",
       "min      -15.931955\n",
       "25%       -0.830876\n",
       "50%        0.069874\n",
       "75%        0.898204\n",
       "max       21.601650\n",
       "Name: ret1, dtype: float64"
      ]
     },
     "execution_count": 44,
     "metadata": {},
     "output_type": "execute_result"
    }
   ],
   "source": [
    "df_monthly['ret1'].describe()"
   ]
  },
  {
   "cell_type": "code",
   "execution_count": 45,
   "id": "2599fc7e-0a98-41b7-b1fc-779b29cbfe10",
   "metadata": {},
   "outputs": [
    {
     "name": "stdout",
     "output_type": "stream",
     "text": [
      "Normalized range: -5.58 ~ 7.42 sigma\n"
     ]
    }
   ],
   "source": [
    "summary = df_monthly['ret1'].describe()\n",
    "norm_min = (summary['min'] - summary['mean']) / summary['std']\n",
    "norm_max = (summary['max'] - summary['mean']) / summary['std']\n",
    "\n",
    "print('Normalized range: {:.2f} ~ {:.2f} sigma'.format(norm_min, norm_max))"
   ]
  },
  {
   "cell_type": "markdown",
   "id": "29ae9ddc-f008-40d3-a63c-1eecaa603619",
   "metadata": {},
   "source": [
    "해석\n",
    "1. 한달 평균 0.174%증가\n",
    "2. 한번에 15.9%떨어진적도 있고, 21.6%증가한적도 있음. 표준편차와 비교할때 -5.54씨그마 ~ 7.37씨그마에 해당하는 범위\n",
    "3. 따라서 환율 변화는 정규분포를 따르지 않음. tail risk존재"
   ]
  },
  {
   "cell_type": "code",
   "execution_count": 46,
   "id": "59681f75-54bf-4706-96a1-f5a1172d51c0",
   "metadata": {},
   "outputs": [
    {
     "data": {
      "image/png": "[encoded data removed]",
      "text/plain": [
       "<Figure size 720x288 with 1 Axes>"
      ]
     },
     "metadata": {
      "needs_background": "light"
     },
     "output_type": "display_data"
    }
   ],
   "source": [
    "df_monthly['ret1'].hist(bins=50)\n",
    "plt.show()"
   ]
  },
  {
   "cell_type": "markdown",
   "id": "c013e6d9-e262-4f49-af85-eb846d525ce8",
   "metadata": {},
   "source": [
    "# 환율 변화율을 예측하기"
   ]
  },
  {
   "cell_type": "code",
   "execution_count": 47,
   "id": "d56116ec-3320-4cf7-87c0-c368f16bf9c8",
   "metadata": {},
   "outputs": [],
   "source": [
    "df_monthly = df_monthly.dropna()"
   ]
  },
  {
   "cell_type": "code",
   "execution_count": 49,
   "id": "40c5439c-2ec5-4d7c-98cd-3aad1385171b",
   "metadata": {},
   "outputs": [],
   "source": [
    "X = df_monthly.iloc[:-1]['ret1']\n",
    "X = sm.add_constant(X)"
   ]
  },
  {
   "cell_type": "code",
   "execution_count": 50,
   "id": "8e2ef9ea-8239-425e-ae80-5416aa26ff1e",
   "metadata": {},
   "outputs": [],
   "source": [
    "Y = df_monthly.iloc[1:]['ret1']"
   ]
  },
  {
   "cell_type": "code",
   "execution_count": 51,
   "id": "3b541d38-dec3-4947-85e9-285033854ca1",
   "metadata": {},
   "outputs": [],
   "source": [
    "model = sm.OLS(Y,X.values)"
   ]
  },
  {
   "cell_type": "code",
   "execution_count": 52,
   "id": "f0c84cbd-7e0e-43c1-b8ec-867ef7da595c",
   "metadata": {},
   "outputs": [],
   "source": [
    "resutls = model.fit()"
   ]
  },
  {
   "cell_type": "code",
   "execution_count": 54,
   "id": "6a11f84a-3edb-43db-b106-a583a21bf118",
   "metadata": {},
   "outputs": [
    {
     "data": {
      "text/html": [
       "<table class=\"simpletable\">\n",
       "<caption>OLS Regression Results</caption>\n",
       "<tr>\n",
       "  <th>Dep. Variable:</th>          <td>ret1</td>       <th>  R-squared:         </th> <td>   0.029</td>\n",
       "</tr>\n",
       "<tr>\n",
       "  <th>Model:</th>                   <td>OLS</td>       <th>  Adj. R-squared:    </th> <td>   0.027</td>\n",
       "</tr>\n",
       "<tr>\n",
       "  <th>Method:</th>             <td>Least Squares</td>  <th>  F-statistic:       </th> <td>   14.81</td>\n",
       "</tr>\n",
       "<tr>\n",
       "  <th>Date:</th>             <td>Tue, 28 Dec 2021</td> <th>  Prob (F-statistic):</th> <td>0.000134</td>\n",
       "</tr>\n",
       "<tr>\n",
       "  <th>Time:</th>                 <td>21:52:21</td>     <th>  Log-Likelihood:    </th> <td> -1232.4</td>\n",
       "</tr>\n",
       "<tr>\n",
       "  <th>No. Observations:</th>      <td>   500</td>      <th>  AIC:               </th> <td>   2469.</td>\n",
       "</tr>\n",
       "<tr>\n",
       "  <th>Df Residuals:</th>          <td>   498</td>      <th>  BIC:               </th> <td>   2477.</td>\n",
       "</tr>\n",
       "<tr>\n",
       "  <th>Df Model:</th>              <td>     1</td>      <th>                     </th>     <td> </td>   \n",
       "</tr>\n",
       "<tr>\n",
       "  <th>Covariance Type:</th>      <td>nonrobust</td>    <th>                     </th>     <td> </td>   \n",
       "</tr>\n",
       "</table>\n",
       "<table class=\"simpletable\">\n",
       "<tr>\n",
       "    <td></td>       <th>coef</th>     <th>std err</th>      <th>t</th>      <th>P>|t|</th>  <th>[0.025</th>    <th>0.975]</th>  \n",
       "</tr>\n",
       "<tr>\n",
       "  <th>const</th> <td>    0.1493</td> <td>    0.128</td> <td>    1.168</td> <td> 0.243</td> <td>   -0.102</td> <td>    0.400</td>\n",
       "</tr>\n",
       "<tr>\n",
       "  <th>x1</th>    <td>    0.1700</td> <td>    0.044</td> <td>    3.849</td> <td> 0.000</td> <td>    0.083</td> <td>    0.257</td>\n",
       "</tr>\n",
       "</table>\n",
       "<table class=\"simpletable\">\n",
       "<tr>\n",
       "  <th>Omnibus:</th>       <td>152.753</td> <th>  Durbin-Watson:     </th> <td>   1.997</td>\n",
       "</tr>\n",
       "<tr>\n",
       "  <th>Prob(Omnibus):</th> <td> 0.000</td>  <th>  Jarque-Bera (JB):  </th> <td>4432.772</td>\n",
       "</tr>\n",
       "<tr>\n",
       "  <th>Skew:</th>          <td> 0.664</td>  <th>  Prob(JB):          </th> <td>    0.00</td>\n",
       "</tr>\n",
       "<tr>\n",
       "  <th>Kurtosis:</th>      <td>17.526</td>  <th>  Cond. No.          </th> <td>    2.90</td>\n",
       "</tr>\n",
       "</table><br/><br/>Notes:<br/>[1] Standard Errors assume that the covariance matrix of the errors is correctly specified."
      ],
      "text/plain": [
       "<class 'statsmodels.iolib.summary.Summary'>\n",
       "\"\"\"\n",
       "                            OLS Regression Results                            \n",
       "==============================================================================\n",
       "Dep. Variable:                   ret1   R-squared:                       0.029\n",
       "Model:                            OLS   Adj. R-squared:                  0.027\n",
       "Method:                 Least Squares   F-statistic:                     14.81\n",
       "Date:                Tue, 28 Dec 2021   Prob (F-statistic):           0.000134\n",
       "Time:                        21:52:21   Log-Likelihood:                -1232.4\n",
       "No. Observations:                 500   AIC:                             2469.\n",
       "Df Residuals:                     498   BIC:                             2477.\n",
       "Df Model:                           1                                         \n",
       "Covariance Type:            nonrobust                                         \n",
       "==============================================================================\n",
       "                 coef    std err          t      P>|t|      [0.025      0.975]\n",
       "------------------------------------------------------------------------------\n",
       "const          0.1493      0.128      1.168      0.243      -0.102       0.400\n",
       "x1             0.1700      0.044      3.849      0.000       0.083       0.257\n",
       "==============================================================================\n",
       "Omnibus:                      152.753   Durbin-Watson:                   1.997\n",
       "Prob(Omnibus):                  0.000   Jarque-Bera (JB):             4432.772\n",
       "Skew:                           0.664   Prob(JB):                         0.00\n",
       "Kurtosis:                      17.526   Cond. No.                         2.90\n",
       "==============================================================================\n",
       "\n",
       "Notes:\n",
       "[1] Standard Errors assume that the covariance matrix of the errors is correctly specified.\n",
       "\"\"\""
      ]
     },
     "execution_count": 54,
     "metadata": {},
     "output_type": "execute_result"
    }
   ],
   "source": [
    "resutls.summary()"
   ]
  },
  {
   "cell_type": "markdown",
   "id": "f9f83ae6-02d1-4c2a-8916-a9738a4b52cc",
   "metadata": {},
   "source": [
    "# IMF 이후만 가지고 예측을 해본다면?"
   ]
  },
  {
   "cell_type": "code",
   "execution_count": 55,
   "id": "a1c89b2c-52be-45d1-a182-7d5841e78e30",
   "metadata": {},
   "outputs": [
    {
     "data": {
      "image/png": "[encoded data removed]",
      "text/plain": [
       "<Figure size 720x288 with 1 Axes>"
      ]
     },
     "metadata": {
      "needs_background": "light"
     },
     "output_type": "display_data"
    }
   ],
   "source": [
    "plt.plot(df_xr)\n",
    "plt.show()"
   ]
  },
  {
   "cell_type": "code",
   "execution_count": 57,
   "id": "cc9cd1bc-239e-4eef-ba27-0505dcae1cda",
   "metadata": {},
   "outputs": [],
   "source": [
    "df_post_imf = df_monthly['1999-01-01':]"
   ]
  },
  {
   "cell_type": "code",
   "execution_count": 67,
   "id": "64b4a985-7ad4-4694-9143-d58a5643d2ba",
   "metadata": {},
   "outputs": [
    {
     "name": "stderr",
     "output_type": "stream",
     "text": [
      "/Users/junghoij/opt/anaconda3/lib/python3.9/site-packages/statsmodels/tsa/tsatools.py:142: FutureWarning: In a future version of pandas all arguments of concat except for the argument 'objs' will be keyword-only\n",
      "  x = pd.concat(x[::order], 1)\n"
     ]
    }
   ],
   "source": [
    "X = df_post_imf.iloc[:-1]['ret1']\n",
    "X = sm.add_constant(X)"
   ]
  },
  {
   "cell_type": "code",
   "execution_count": 68,
   "id": "0e6f6fd3-3698-412b-b7e0-4a7302dc2418",
   "metadata": {},
   "outputs": [],
   "source": [
    "Y = df_post_imf.iloc[1:]['ret1']"
   ]
  },
  {
   "cell_type": "code",
   "execution_count": 69,
   "id": "c81d5a1b-f9c9-4caf-914a-4f34fbc51e9a",
   "metadata": {},
   "outputs": [],
   "source": [
    "model = sm.OLS(Y,X.values)"
   ]
  },
  {
   "cell_type": "code",
   "execution_count": 70,
   "id": "6dc0b840-5f33-4796-b7df-ad8ac8c48fbf",
   "metadata": {},
   "outputs": [],
   "source": [
    "resutls = model.fit()"
   ]
  },
  {
   "cell_type": "code",
   "execution_count": 71,
   "id": "2d6ff837-f89b-44b1-944b-315cd473b76a",
   "metadata": {},
   "outputs": [
    {
     "data": {
      "text/html": [
       "<table class=\"simpletable\">\n",
       "<caption>OLS Regression Results</caption>\n",
       "<tr>\n",
       "  <th>Dep. Variable:</th>          <td>ret1</td>       <th>  R-squared:         </th> <td>   0.004</td>\n",
       "</tr>\n",
       "<tr>\n",
       "  <th>Model:</th>                   <td>OLS</td>       <th>  Adj. R-squared:    </th> <td>   0.001</td>\n",
       "</tr>\n",
       "<tr>\n",
       "  <th>Method:</th>             <td>Least Squares</td>  <th>  F-statistic:       </th> <td>   1.228</td>\n",
       "</tr>\n",
       "<tr>\n",
       "  <th>Date:</th>             <td>Tue, 28 Dec 2021</td> <th>  Prob (F-statistic):</th>  <td> 0.269</td> \n",
       "</tr>\n",
       "<tr>\n",
       "  <th>Time:</th>                 <td>22:03:31</td>     <th>  Log-Likelihood:    </th> <td> -687.98</td>\n",
       "</tr>\n",
       "<tr>\n",
       "  <th>No. Observations:</th>      <td>   275</td>      <th>  AIC:               </th> <td>   1380.</td>\n",
       "</tr>\n",
       "<tr>\n",
       "  <th>Df Residuals:</th>          <td>   273</td>      <th>  BIC:               </th> <td>   1387.</td>\n",
       "</tr>\n",
       "<tr>\n",
       "  <th>Df Model:</th>              <td>     1</td>      <th>                     </th>     <td> </td>   \n",
       "</tr>\n",
       "<tr>\n",
       "  <th>Covariance Type:</th>      <td>nonrobust</td>    <th>                     </th>     <td> </td>   \n",
       "</tr>\n",
       "</table>\n",
       "<table class=\"simpletable\">\n",
       "<tr>\n",
       "    <td></td>       <th>coef</th>     <th>std err</th>      <th>t</th>      <th>P>|t|</th>  <th>[0.025</th>    <th>0.975]</th>  \n",
       "</tr>\n",
       "<tr>\n",
       "  <th>const</th> <td>    0.0495</td> <td>    0.179</td> <td>    0.277</td> <td> 0.782</td> <td>   -0.302</td> <td>    0.401</td>\n",
       "</tr>\n",
       "<tr>\n",
       "  <th>x1</th>    <td>   -0.0668</td> <td>    0.060</td> <td>   -1.108</td> <td> 0.269</td> <td>   -0.186</td> <td>    0.052</td>\n",
       "</tr>\n",
       "</table>\n",
       "<table class=\"simpletable\">\n",
       "<tr>\n",
       "  <th>Omnibus:</th>       <td>62.571</td> <th>  Durbin-Watson:     </th> <td>   1.988</td>\n",
       "</tr>\n",
       "<tr>\n",
       "  <th>Prob(Omnibus):</th> <td> 0.000</td> <th>  Jarque-Bera (JB):  </th> <td> 373.625</td>\n",
       "</tr>\n",
       "<tr>\n",
       "  <th>Skew:</th>          <td> 0.741</td> <th>  Prob(JB):          </th> <td>7.38e-82</td>\n",
       "</tr>\n",
       "<tr>\n",
       "  <th>Kurtosis:</th>      <td> 8.515</td> <th>  Cond. No.          </th> <td>    2.96</td>\n",
       "</tr>\n",
       "</table><br/><br/>Notes:<br/>[1] Standard Errors assume that the covariance matrix of the errors is correctly specified."
      ],
      "text/plain": [
       "<class 'statsmodels.iolib.summary.Summary'>\n",
       "\"\"\"\n",
       "                            OLS Regression Results                            \n",
       "==============================================================================\n",
       "Dep. Variable:                   ret1   R-squared:                       0.004\n",
       "Model:                            OLS   Adj. R-squared:                  0.001\n",
       "Method:                 Least Squares   F-statistic:                     1.228\n",
       "Date:                Tue, 28 Dec 2021   Prob (F-statistic):              0.269\n",
       "Time:                        22:03:31   Log-Likelihood:                -687.98\n",
       "No. Observations:                 275   AIC:                             1380.\n",
       "Df Residuals:                     273   BIC:                             1387.\n",
       "Df Model:                           1                                         \n",
       "Covariance Type:            nonrobust                                         \n",
       "==============================================================================\n",
       "                 coef    std err          t      P>|t|      [0.025      0.975]\n",
       "------------------------------------------------------------------------------\n",
       "const          0.0495      0.179      0.277      0.782      -0.302       0.401\n",
       "x1            -0.0668      0.060     -1.108      0.269      -0.186       0.052\n",
       "==============================================================================\n",
       "Omnibus:                       62.571   Durbin-Watson:                   1.988\n",
       "Prob(Omnibus):                  0.000   Jarque-Bera (JB):              373.625\n",
       "Skew:                           0.741   Prob(JB):                     7.38e-82\n",
       "Kurtosis:                       8.515   Cond. No.                         2.96\n",
       "==============================================================================\n",
       "\n",
       "Notes:\n",
       "[1] Standard Errors assume that the covariance matrix of the errors is correctly specified.\n",
       "\"\"\""
      ]
     },
     "execution_count": 71,
     "metadata": {},
     "output_type": "execute_result"
    }
   ],
   "source": [
    "resutls.summary()"
   ]
  },
  {
   "cell_type": "code",
   "execution_count": null,
   "id": "903dd2eb-9549-48b5-8c90-778a0481a321",
   "metadata": {},
   "outputs": [],
   "source": []
  },
  {
   "cell_type": "code",
   "execution_count": null,
   "id": "9f58a2fc-fc51-4352-aa95-b801e1bc195c",
   "metadata": {},
   "outputs": [],
   "source": []
  },
  {
   "cell_type": "code",
   "execution_count": null,
   "id": "bd23ff3d-60c2-48aa-9e8d-f15eedf77410",
   "metadata": {},
   "outputs": [],
   "source": []
  },
  {
   "cell_type": "code",
   "execution_count": null,
   "id": "e715d8b1-25c1-4f16-8bd0-ab205ff0220e",
   "metadata": {},
   "outputs": [],
   "source": []
  },
  {
   "cell_type": "code",
   "execution_count": null,
   "id": "c54c4ac8-5535-44a4-9662-57bf644f7e3e",
   "metadata": {},
   "outputs": [],
   "source": []
  },
  {
   "cell_type": "code",
   "execution_count": null,
   "id": "0feac06f-f190-4e6d-8fef-b97aa62f6f3a",
   "metadata": {},
   "outputs": [],
   "source": []
  },
  {
   "cell_type": "code",
   "execution_count": null,
   "id": "3bc75e53-31f9-4bf8-a394-1be3ab88684a",
   "metadata": {},
   "outputs": [],
   "source": []
  },
  {
   "cell_type": "code",
   "execution_count": null,
   "id": "45229e32-c0e7-434f-ba57-342bc3af1aaa",
   "metadata": {},
   "outputs": [],
   "source": []
  },
  {
   "cell_type": "code",
   "execution_count": null,
   "id": "a0a86b8b-0401-4dcb-be00-99b2b23d05ba",
   "metadata": {},
   "outputs": [],
   "source": []
  },
  {
   "cell_type": "code",
   "execution_count": null,
   "id": "d228114a-6a75-4efb-b6f0-cdfcda8b0f31",
   "metadata": {},
   "outputs": [],
   "source": []
  },
  {
   "cell_type": "code",
   "execution_count": null,
   "id": "c30f149c-dbd9-427c-abe5-be4d39450d9e",
   "metadata": {},
   "outputs": [],
   "source": []
  },
  {
   "cell_type": "code",
   "execution_count": null,
   "id": "14ed64eb-b57a-4978-bd0c-8d63bb0b9569",
   "metadata": {},
   "outputs": [],
   "source": []
  },
  {
   "cell_type": "code",
   "execution_count": null,
   "id": "610a70b0-2f5e-46d7-b71b-910f4e77d196",
   "metadata": {},
   "outputs": [],
   "source": []
  },
  {
   "cell_type": "code",
   "execution_count": null,
   "id": "b022b525-6bc8-4cfd-95c6-b9344a9dbbde",
   "metadata": {},
   "outputs": [],
   "source": []
  }
 ],
 "metadata": {
  "kernelspec": {
   "display_name": "Python 3",
   "language": "python",
   "name": "python3"
  },
  "language_info": {
   "codemirror_mode": {
    "name": "ipython",
    "version": 3
   },
   "file_extension": ".py",
   "mimetype": "text/x-python",
   "name": "python",
   "nbconvert_exporter": "python",
   "pygments_lexer": "ipython3",
   "version": "3.9.7"
  }
 },
 "nbformat": 4,
 "nbformat_minor": 5
}
