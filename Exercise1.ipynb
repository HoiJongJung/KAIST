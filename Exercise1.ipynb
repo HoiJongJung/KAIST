{
 "cells": [
  {
   "cell_type": "markdown",
   "id": "3c5a5a6f",
   "metadata": {},
   "source": [
    "# BAF507 금융 데이터베이스-Exercise1"
   ]
  },
  {
   "cell_type": "markdown",
   "id": "f40288a1",
   "metadata": {},
   "source": [
    "## 정회종(20214125)"
   ]
  },
  {
   "cell_type": "markdown",
   "id": "516315e1",
   "metadata": {},
   "source": [
    "## 2. pandas로 데이터 불러오기"
   ]
  },
  {
   "cell_type": "code",
   "execution_count": 1,
   "id": "e514acc2",
   "metadata": {},
   "outputs": [],
   "source": [
    "import pandas as pd"
   ]
  },
  {
   "cell_type": "code",
   "execution_count": 4,
   "id": "8f51dbde",
   "metadata": {},
   "outputs": [],
   "source": [
    "df_samsung = pd.read_excel('data/samsung_stock_price.xlsx',skiprows=1)"
   ]
  },
  {
   "cell_type": "code",
   "execution_count": 5,
   "id": "5c477994",
   "metadata": {},
   "outputs": [
    {
     "data": {
      "text/html": [
       "<div>\n",
       "<style scoped>\n",
       "    .dataframe tbody tr th:only-of-type {\n",
       "        vertical-align: middle;\n",
       "    }\n",
       "\n",
       "    .dataframe tbody tr th {\n",
       "        vertical-align: top;\n",
       "    }\n",
       "\n",
       "    .dataframe thead th {\n",
       "        text-align: right;\n",
       "    }\n",
       "</style>\n",
       "<table border=\"1\" class=\"dataframe\">\n",
       "  <thead>\n",
       "    <tr style=\"text-align: right;\">\n",
       "      <th></th>\n",
       "      <th>날짜</th>\n",
       "      <th>종목코드</th>\n",
       "      <th>기업명</th>\n",
       "      <th>주가 2000-2021</th>\n",
       "    </tr>\n",
       "  </thead>\n",
       "  <tbody>\n",
       "    <tr>\n",
       "      <th>5418</th>\n",
       "      <td>2021-12-13T00:00:00</td>\n",
       "      <td>KRX:005930</td>\n",
       "      <td>삼성전자</td>\n",
       "      <td>76800</td>\n",
       "    </tr>\n",
       "    <tr>\n",
       "      <th>5419</th>\n",
       "      <td>2021-12-14T00:00:00</td>\n",
       "      <td>KRX:005930</td>\n",
       "      <td>삼성전자</td>\n",
       "      <td>77000</td>\n",
       "    </tr>\n",
       "    <tr>\n",
       "      <th>5420</th>\n",
       "      <td>2021-12-15T00:00:00</td>\n",
       "      <td>KRX:005930</td>\n",
       "      <td>삼성전자</td>\n",
       "      <td>77600</td>\n",
       "    </tr>\n",
       "    <tr>\n",
       "      <th>5421</th>\n",
       "      <td>2021-12-16T00:00:00</td>\n",
       "      <td>KRX:005930</td>\n",
       "      <td>삼성전자</td>\n",
       "      <td>77800</td>\n",
       "    </tr>\n",
       "    <tr>\n",
       "      <th>5422</th>\n",
       "      <td>2021-12-17T00:00:00</td>\n",
       "      <td>KRX:005930</td>\n",
       "      <td>삼성전자</td>\n",
       "      <td>78000</td>\n",
       "    </tr>\n",
       "  </tbody>\n",
       "</table>\n",
       "</div>"
      ],
      "text/plain": [
       "                       날짜        종목코드   기업명  주가 2000-2021\n",
       "5418  2021-12-13T00:00:00  KRX:005930  삼성전자         76800\n",
       "5419  2021-12-14T00:00:00  KRX:005930  삼성전자         77000\n",
       "5420  2021-12-15T00:00:00  KRX:005930  삼성전자         77600\n",
       "5421  2021-12-16T00:00:00  KRX:005930  삼성전자         77800\n",
       "5422  2021-12-17T00:00:00  KRX:005930  삼성전자         78000"
      ]
     },
     "execution_count": 5,
     "metadata": {},
     "output_type": "execute_result"
    }
   ],
   "source": [
    "df_samsung.tail()"
   ]
  },
  {
   "cell_type": "code",
   "execution_count": 6,
   "id": "079365fb",
   "metadata": {},
   "outputs": [
    {
     "data": {
      "text/html": [
       "<div>\n",
       "<style scoped>\n",
       "    .dataframe tbody tr th:only-of-type {\n",
       "        vertical-align: middle;\n",
       "    }\n",
       "\n",
       "    .dataframe tbody tr th {\n",
       "        vertical-align: top;\n",
       "    }\n",
       "\n",
       "    .dataframe thead th {\n",
       "        text-align: right;\n",
       "    }\n",
       "</style>\n",
       "<table border=\"1\" class=\"dataframe\">\n",
       "  <thead>\n",
       "    <tr style=\"text-align: right;\">\n",
       "      <th></th>\n",
       "      <th>날짜</th>\n",
       "      <th>종목코드</th>\n",
       "      <th>기업명</th>\n",
       "      <th>주가 2000-2021</th>\n",
       "    </tr>\n",
       "  </thead>\n",
       "  <tbody>\n",
       "    <tr>\n",
       "      <th>0</th>\n",
       "      <td>2000-01-04T00:00:00</td>\n",
       "      <td>KRX:005930</td>\n",
       "      <td>삼성전자</td>\n",
       "      <td>6110</td>\n",
       "    </tr>\n",
       "    <tr>\n",
       "      <th>1</th>\n",
       "      <td>2000-01-05T00:00:00</td>\n",
       "      <td>KRX:005930</td>\n",
       "      <td>삼성전자</td>\n",
       "      <td>5580</td>\n",
       "    </tr>\n",
       "    <tr>\n",
       "      <th>2</th>\n",
       "      <td>2000-01-06T00:00:00</td>\n",
       "      <td>KRX:005930</td>\n",
       "      <td>삼성전자</td>\n",
       "      <td>5620</td>\n",
       "    </tr>\n",
       "    <tr>\n",
       "      <th>3</th>\n",
       "      <td>2000-01-07T00:00:00</td>\n",
       "      <td>KRX:005930</td>\n",
       "      <td>삼성전자</td>\n",
       "      <td>5540</td>\n",
       "    </tr>\n",
       "    <tr>\n",
       "      <th>4</th>\n",
       "      <td>2000-01-10T00:00:00</td>\n",
       "      <td>KRX:005930</td>\n",
       "      <td>삼성전자</td>\n",
       "      <td>5770</td>\n",
       "    </tr>\n",
       "  </tbody>\n",
       "</table>\n",
       "</div>"
      ],
      "text/plain": [
       "                    날짜        종목코드   기업명  주가 2000-2021\n",
       "0  2000-01-04T00:00:00  KRX:005930  삼성전자          6110\n",
       "1  2000-01-05T00:00:00  KRX:005930  삼성전자          5580\n",
       "2  2000-01-06T00:00:00  KRX:005930  삼성전자          5620\n",
       "3  2000-01-07T00:00:00  KRX:005930  삼성전자          5540\n",
       "4  2000-01-10T00:00:00  KRX:005930  삼성전자          5770"
      ]
     },
     "execution_count": 6,
     "metadata": {},
     "output_type": "execute_result"
    }
   ],
   "source": [
    "df_samsung.head()"
   ]
  },
  {
   "cell_type": "code",
   "execution_count": 7,
   "id": "56e7da6b",
   "metadata": {},
   "outputs": [
    {
     "name": "stdout",
     "output_type": "stream",
     "text": [
      "<class 'pandas.core.frame.DataFrame'>\n",
      "RangeIndex: 5423 entries, 0 to 5422\n",
      "Data columns (total 4 columns):\n",
      " #   Column        Non-Null Count  Dtype \n",
      "---  ------        --------------  ----- \n",
      " 0   날짜            5423 non-null   object\n",
      " 1   종목코드          5423 non-null   object\n",
      " 2   기업명           5423 non-null   object\n",
      " 3   주가 2000-2021  5423 non-null   int64 \n",
      "dtypes: int64(1), object(3)\n",
      "memory usage: 169.6+ KB\n"
     ]
    }
   ],
   "source": [
    "df_samsung.info()"
   ]
  },
  {
   "cell_type": "code",
   "execution_count": 8,
   "id": "072ba64d",
   "metadata": {},
   "outputs": [
    {
     "data": {
      "text/html": [
       "<div>\n",
       "<style scoped>\n",
       "    .dataframe tbody tr th:only-of-type {\n",
       "        vertical-align: middle;\n",
       "    }\n",
       "\n",
       "    .dataframe tbody tr th {\n",
       "        vertical-align: top;\n",
       "    }\n",
       "\n",
       "    .dataframe thead th {\n",
       "        text-align: right;\n",
       "    }\n",
       "</style>\n",
       "<table border=\"1\" class=\"dataframe\">\n",
       "  <thead>\n",
       "    <tr style=\"text-align: right;\">\n",
       "      <th></th>\n",
       "      <th>주가 2000-2021</th>\n",
       "    </tr>\n",
       "  </thead>\n",
       "  <tbody>\n",
       "    <tr>\n",
       "      <th>count</th>\n",
       "      <td>5423.000000</td>\n",
       "    </tr>\n",
       "    <tr>\n",
       "      <th>mean</th>\n",
       "      <td>24315.902637</td>\n",
       "    </tr>\n",
       "    <tr>\n",
       "      <th>std</th>\n",
       "      <td>19265.281428</td>\n",
       "    </tr>\n",
       "    <tr>\n",
       "      <th>min</th>\n",
       "      <td>2730.000000</td>\n",
       "    </tr>\n",
       "    <tr>\n",
       "      <th>25%</th>\n",
       "      <td>10320.000000</td>\n",
       "    </tr>\n",
       "    <tr>\n",
       "      <th>50%</th>\n",
       "      <td>16580.000000</td>\n",
       "    </tr>\n",
       "    <tr>\n",
       "      <th>75%</th>\n",
       "      <td>30500.000000</td>\n",
       "    </tr>\n",
       "    <tr>\n",
       "      <th>max</th>\n",
       "      <td>91000.000000</td>\n",
       "    </tr>\n",
       "  </tbody>\n",
       "</table>\n",
       "</div>"
      ],
      "text/plain": [
       "       주가 2000-2021\n",
       "count   5423.000000\n",
       "mean   24315.902637\n",
       "std    19265.281428\n",
       "min     2730.000000\n",
       "25%    10320.000000\n",
       "50%    16580.000000\n",
       "75%    30500.000000\n",
       "max    91000.000000"
      ]
     },
     "execution_count": 8,
     "metadata": {},
     "output_type": "execute_result"
    }
   ],
   "source": [
    "df_samsung.describe()"
   ]
  },
  {
   "cell_type": "markdown",
   "id": "8a5b7130",
   "metadata": {},
   "source": [
    "## 3. convert date-string to a legitimate date type"
   ]
  },
  {
   "cell_type": "code",
   "execution_count": 10,
   "id": "d3a24c59",
   "metadata": {},
   "outputs": [
    {
     "data": {
      "text/plain": [
       "'2000-01-04T00:00:00'"
      ]
     },
     "execution_count": 10,
     "metadata": {},
     "output_type": "execute_result"
    }
   ],
   "source": [
    "df_samsung['날짜'][0]"
   ]
  },
  {
   "cell_type": "code",
   "execution_count": 12,
   "id": "77113f66",
   "metadata": {},
   "outputs": [
    {
     "data": {
      "text/plain": [
       "'2000-01-04T00:00:00'"
      ]
     },
     "execution_count": 12,
     "metadata": {},
     "output_type": "execute_result"
    }
   ],
   "source": [
    "df_samsung.loc[0]['날짜']"
   ]
  },
  {
   "cell_type": "code",
   "execution_count": 13,
   "id": "09b291c3",
   "metadata": {},
   "outputs": [
    {
     "data": {
      "text/plain": [
       "str"
      ]
     },
     "execution_count": 13,
     "metadata": {},
     "output_type": "execute_result"
    }
   ],
   "source": [
    "type(df_samsung.loc[0]['날짜'])"
   ]
  },
  {
   "cell_type": "code",
   "execution_count": 15,
   "id": "7ffaaa41",
   "metadata": {},
   "outputs": [],
   "source": [
    "df_samsung['날짜']=pd.to_datetime(df_samsung['날짜'])"
   ]
  },
  {
   "cell_type": "code",
   "execution_count": 17,
   "id": "1cd1ea40",
   "metadata": {},
   "outputs": [
    {
     "data": {
      "text/plain": [
       "Timestamp('2000-01-04 00:00:00')"
      ]
     },
     "execution_count": 17,
     "metadata": {},
     "output_type": "execute_result"
    }
   ],
   "source": [
    "df_samsung.loc[0]['날짜']"
   ]
  },
  {
   "cell_type": "code",
   "execution_count": 18,
   "id": "073be38b",
   "metadata": {},
   "outputs": [
    {
     "data": {
      "text/plain": [
       "pandas._libs.tslibs.timestamps.Timestamp"
      ]
     },
     "execution_count": 18,
     "metadata": {},
     "output_type": "execute_result"
    }
   ],
   "source": [
    "type(df_samsung.loc[0]['날짜'])"
   ]
  },
  {
   "cell_type": "markdown",
   "id": "4b7e2bac",
   "metadata": {},
   "source": [
    "## 4. Replace index with date"
   ]
  },
  {
   "cell_type": "code",
   "execution_count": 19,
   "id": "5b39fb55",
   "metadata": {},
   "outputs": [],
   "source": [
    "df_samsung = df_samsung.set_index('날짜')"
   ]
  },
  {
   "cell_type": "code",
   "execution_count": 20,
   "id": "fc50ad64",
   "metadata": {},
   "outputs": [
    {
     "data": {
      "text/html": [
       "<div>\n",
       "<style scoped>\n",
       "    .dataframe tbody tr th:only-of-type {\n",
       "        vertical-align: middle;\n",
       "    }\n",
       "\n",
       "    .dataframe tbody tr th {\n",
       "        vertical-align: top;\n",
       "    }\n",
       "\n",
       "    .dataframe thead th {\n",
       "        text-align: right;\n",
       "    }\n",
       "</style>\n",
       "<table border=\"1\" class=\"dataframe\">\n",
       "  <thead>\n",
       "    <tr style=\"text-align: right;\">\n",
       "      <th></th>\n",
       "      <th>종목코드</th>\n",
       "      <th>기업명</th>\n",
       "      <th>주가 2000-2021</th>\n",
       "    </tr>\n",
       "    <tr>\n",
       "      <th>날짜</th>\n",
       "      <th></th>\n",
       "      <th></th>\n",
       "      <th></th>\n",
       "    </tr>\n",
       "  </thead>\n",
       "  <tbody>\n",
       "    <tr>\n",
       "      <th>2000-01-04</th>\n",
       "      <td>KRX:005930</td>\n",
       "      <td>삼성전자</td>\n",
       "      <td>6110</td>\n",
       "    </tr>\n",
       "    <tr>\n",
       "      <th>2000-01-05</th>\n",
       "      <td>KRX:005930</td>\n",
       "      <td>삼성전자</td>\n",
       "      <td>5580</td>\n",
       "    </tr>\n",
       "    <tr>\n",
       "      <th>2000-01-06</th>\n",
       "      <td>KRX:005930</td>\n",
       "      <td>삼성전자</td>\n",
       "      <td>5620</td>\n",
       "    </tr>\n",
       "  </tbody>\n",
       "</table>\n",
       "</div>"
      ],
      "text/plain": [
       "                  종목코드   기업명  주가 2000-2021\n",
       "날짜                                        \n",
       "2000-01-04  KRX:005930  삼성전자          6110\n",
       "2000-01-05  KRX:005930  삼성전자          5580\n",
       "2000-01-06  KRX:005930  삼성전자          5620"
      ]
     },
     "execution_count": 20,
     "metadata": {},
     "output_type": "execute_result"
    }
   ],
   "source": [
    "df_samsung.head(3)"
   ]
  },
  {
   "cell_type": "code",
   "execution_count": 22,
   "id": "36fcf687",
   "metadata": {},
   "outputs": [
    {
     "data": {
      "text/plain": [
       "종목코드            KRX:005930\n",
       "기업명                   삼성전자\n",
       "주가 2000-2021          6110\n",
       "Name: 2000-01-04 00:00:00, dtype: object"
      ]
     },
     "execution_count": 22,
     "metadata": {},
     "output_type": "execute_result"
    }
   ],
   "source": [
    "df_samsung.loc['2000-01-04']"
   ]
  },
  {
   "cell_type": "markdown",
   "id": "4ac9e38e",
   "metadata": {},
   "source": [
    "## 5. plot a time-series chart"
   ]
  },
  {
   "cell_type": "code",
   "execution_count": 23,
   "id": "5eee07fb",
   "metadata": {},
   "outputs": [],
   "source": [
    "import matplotlib.pyplot as plt"
   ]
  },
  {
   "cell_type": "code",
   "execution_count": 24,
   "id": "d1a6f374",
   "metadata": {},
   "outputs": [
    {
     "data": {
      "image/png": "[encoded data removed]",
      "text/plain": [
       "<Figure size 432x288 with 1 Axes>"
      ]
     },
     "metadata": {
      "needs_background": "light"
     },
     "output_type": "display_data"
    }
   ],
   "source": [
    "plt.plot(df_samsung['주가 2000-2021'])\n",
    "plt.show()"
   ]
  },
  {
   "cell_type": "markdown",
   "id": "d06efb9d",
   "metadata": {},
   "source": [
    "## 일본 수출규제 발표후 2019년 6월 30일"
   ]
  },
  {
   "cell_type": "code",
   "execution_count": 26,
   "id": "cbc93897",
   "metadata": {},
   "outputs": [],
   "source": [
    "df_sub = df_samsung.loc['2019-06-20':'2019-07-30']"
   ]
  },
  {
   "cell_type": "code",
   "execution_count": 29,
   "id": "e285d30f",
   "metadata": {},
   "outputs": [
    {
     "data": {
      "image/png": "[encoded data removed]",
      "text/plain": [
       "<Figure size 432x288 with 1 Axes>"
      ]
     },
     "metadata": {
      "needs_background": "light"
     },
     "output_type": "display_data"
    }
   ],
   "source": [
    "plt.plot(df_sub['주가 2000-2021'])\n",
    "plt.xticks(rotation=30)\n",
    "plt.show()"
   ]
  },
  {
   "cell_type": "code",
   "execution_count": 31,
   "id": "ca84b697",
   "metadata": {},
   "outputs": [
    {
     "data": {
      "text/html": [
       "<div>\n",
       "<style scoped>\n",
       "    .dataframe tbody tr th:only-of-type {\n",
       "        vertical-align: middle;\n",
       "    }\n",
       "\n",
       "    .dataframe tbody tr th {\n",
       "        vertical-align: top;\n",
       "    }\n",
       "\n",
       "    .dataframe thead th {\n",
       "        text-align: right;\n",
       "    }\n",
       "</style>\n",
       "<table border=\"1\" class=\"dataframe\">\n",
       "  <thead>\n",
       "    <tr style=\"text-align: right;\">\n",
       "      <th></th>\n",
       "      <th>종목코드</th>\n",
       "      <th>기업명</th>\n",
       "      <th>주가 2000-2021</th>\n",
       "    </tr>\n",
       "    <tr>\n",
       "      <th>날짜</th>\n",
       "      <th></th>\n",
       "      <th></th>\n",
       "      <th></th>\n",
       "    </tr>\n",
       "  </thead>\n",
       "  <tbody>\n",
       "    <tr>\n",
       "      <th>2019-07-01</th>\n",
       "      <td>KRX:005930</td>\n",
       "      <td>삼성전자</td>\n",
       "      <td>46600</td>\n",
       "    </tr>\n",
       "    <tr>\n",
       "      <th>2019-07-02</th>\n",
       "      <td>KRX:005930</td>\n",
       "      <td>삼성전자</td>\n",
       "      <td>46250</td>\n",
       "    </tr>\n",
       "    <tr>\n",
       "      <th>2019-07-03</th>\n",
       "      <td>KRX:005930</td>\n",
       "      <td>삼성전자</td>\n",
       "      <td>45400</td>\n",
       "    </tr>\n",
       "  </tbody>\n",
       "</table>\n",
       "</div>"
      ],
      "text/plain": [
       "                  종목코드   기업명  주가 2000-2021\n",
       "날짜                                        \n",
       "2019-07-01  KRX:005930  삼성전자         46600\n",
       "2019-07-02  KRX:005930  삼성전자         46250\n",
       "2019-07-03  KRX:005930  삼성전자         45400"
      ]
     },
     "execution_count": 31,
     "metadata": {},
     "output_type": "execute_result"
    }
   ],
   "source": [
    "df_sub.loc['2019-06-30':].head(3)"
   ]
  },
  {
   "cell_type": "code",
   "execution_count": 33,
   "id": "d9d156c1",
   "metadata": {},
   "outputs": [],
   "source": [
    "event = df_sub.loc['2019-06-30':].iloc[0]"
   ]
  },
  {
   "cell_type": "code",
   "execution_count": 34,
   "id": "ae1051c6",
   "metadata": {},
   "outputs": [
    {
     "data": {
      "text/plain": [
       "종목코드            KRX:005930\n",
       "기업명                   삼성전자\n",
       "주가 2000-2021         46600\n",
       "Name: 2019-07-01 00:00:00, dtype: object"
      ]
     },
     "execution_count": 34,
     "metadata": {},
     "output_type": "execute_result"
    }
   ],
   "source": [
    "event"
   ]
  },
  {
   "cell_type": "code",
   "execution_count": 35,
   "id": "7ab8c861",
   "metadata": {},
   "outputs": [
    {
     "data": {
      "text/plain": [
       "Timestamp('2019-07-01 00:00:00')"
      ]
     },
     "execution_count": 35,
     "metadata": {},
     "output_type": "execute_result"
    }
   ],
   "source": [
    "event.name"
   ]
  },
  {
   "cell_type": "code",
   "execution_count": 36,
   "id": "a2e44b98",
   "metadata": {},
   "outputs": [
    {
     "data": {
      "text/plain": [
       "46600"
      ]
     },
     "execution_count": 36,
     "metadata": {},
     "output_type": "execute_result"
    }
   ],
   "source": [
    "event['주가 2000-2021']"
   ]
  },
  {
   "cell_type": "code",
   "execution_count": 37,
   "id": "c4aecfe6",
   "metadata": {},
   "outputs": [],
   "source": [
    "bbox = dict(boxstyle=\"round\", fc=\"0.8\")"
   ]
  },
  {
   "cell_type": "code",
   "execution_count": 38,
   "id": "d5ff8c95",
   "metadata": {},
   "outputs": [],
   "source": [
    "arrowprops = dict(\n",
    "    arrowstyle=\"->\",\n",
    "    connectionstyle=\"angle,angleA=0,angleB=90,rad=10\")"
   ]
  },
  {
   "cell_type": "code",
   "execution_count": 46,
   "id": "bde1345f",
   "metadata": {},
   "outputs": [
    {
     "data": {
      "image/png": "[encoded data removed]",
      "text/plain": [
       "<Figure size 432x288 with 1 Axes>"
      ]
     },
     "metadata": {
      "needs_background": "light"
     },
     "output_type": "display_data"
    }
   ],
   "source": [
    "plt.plot(df_sub['주가 2000-2021'])\n",
    "plt.xticks(rotation = 30)\n",
    "plt.annotate(\n",
    "    \"Japans's export ban\",\n",
    "    xy = (event.name,event['주가 2000-2021']),\n",
    "    xytext=(20,30),\n",
    "    textcoords='offset points',\n",
    "    arrowprops=arrowprops,\n",
    "    bbox=bbox\n",
    ")\n",
    "plt.show()"
   ]
  },
  {
   "cell_type": "markdown",
   "id": "7681c312",
   "metadata": {},
   "source": [
    "## 6. Merge Samsung and LG stock prices together"
   ]
  },
  {
   "cell_type": "code",
   "execution_count": 47,
   "id": "2c8d600d",
   "metadata": {},
   "outputs": [],
   "source": [
    "df_lg = pd.read_excel('data/lg_stock_price.xlsx',skiprows=1)"
   ]
  },
  {
   "cell_type": "code",
   "execution_count": 48,
   "id": "4543cd2f",
   "metadata": {},
   "outputs": [],
   "source": [
    "df_lg['날짜'] = pd.to_datetime(df_lg['날짜'])"
   ]
  },
  {
   "cell_type": "code",
   "execution_count": 49,
   "id": "bdc8ed51",
   "metadata": {},
   "outputs": [],
   "source": [
    "df_lg = df_lg.set_index('날짜')"
   ]
  },
  {
   "cell_type": "code",
   "execution_count": 50,
   "id": "9ae6f12a",
   "metadata": {},
   "outputs": [
    {
     "data": {
      "text/html": [
       "<div>\n",
       "<style scoped>\n",
       "    .dataframe tbody tr th:only-of-type {\n",
       "        vertical-align: middle;\n",
       "    }\n",
       "\n",
       "    .dataframe tbody tr th {\n",
       "        vertical-align: top;\n",
       "    }\n",
       "\n",
       "    .dataframe thead th {\n",
       "        text-align: right;\n",
       "    }\n",
       "</style>\n",
       "<table border=\"1\" class=\"dataframe\">\n",
       "  <thead>\n",
       "    <tr style=\"text-align: right;\">\n",
       "      <th></th>\n",
       "      <th>종목코드</th>\n",
       "      <th>기업명</th>\n",
       "      <th>주가 2000-2021</th>\n",
       "    </tr>\n",
       "    <tr>\n",
       "      <th>날짜</th>\n",
       "      <th></th>\n",
       "      <th></th>\n",
       "      <th></th>\n",
       "    </tr>\n",
       "  </thead>\n",
       "  <tbody>\n",
       "    <tr>\n",
       "      <th>2002-04-22</th>\n",
       "      <td>KRX:066570</td>\n",
       "      <td>LG전자</td>\n",
       "      <td>62936</td>\n",
       "    </tr>\n",
       "    <tr>\n",
       "      <th>2002-04-23</th>\n",
       "      <td>KRX:066570</td>\n",
       "      <td>LG전자</td>\n",
       "      <td>57463</td>\n",
       "    </tr>\n",
       "    <tr>\n",
       "      <th>2002-04-24</th>\n",
       "      <td>KRX:066570</td>\n",
       "      <td>LG전자</td>\n",
       "      <td>55704</td>\n",
       "    </tr>\n",
       "    <tr>\n",
       "      <th>2002-04-25</th>\n",
       "      <td>KRX:066570</td>\n",
       "      <td>LG전자</td>\n",
       "      <td>51209</td>\n",
       "    </tr>\n",
       "    <tr>\n",
       "      <th>2002-04-26</th>\n",
       "      <td>KRX:066570</td>\n",
       "      <td>LG전자</td>\n",
       "      <td>53554</td>\n",
       "    </tr>\n",
       "  </tbody>\n",
       "</table>\n",
       "</div>"
      ],
      "text/plain": [
       "                  종목코드   기업명  주가 2000-2021\n",
       "날짜                                        \n",
       "2002-04-22  KRX:066570  LG전자         62936\n",
       "2002-04-23  KRX:066570  LG전자         57463\n",
       "2002-04-24  KRX:066570  LG전자         55704\n",
       "2002-04-25  KRX:066570  LG전자         51209\n",
       "2002-04-26  KRX:066570  LG전자         53554"
      ]
     },
     "execution_count": 50,
     "metadata": {},
     "output_type": "execute_result"
    }
   ],
   "source": [
    "df_lg.head()"
   ]
  },
  {
   "cell_type": "markdown",
   "id": "c04a63b3",
   "metadata": {},
   "source": [
    "## Rename columns"
   ]
  },
  {
   "cell_type": "code",
   "execution_count": 51,
   "id": "f35b194f",
   "metadata": {},
   "outputs": [],
   "source": [
    "df_samsung = df_samsung.rename(\n",
    "    columns={'주가 2000-2021':'samsung'}\n",
    ")"
   ]
  },
  {
   "cell_type": "code",
   "execution_count": 52,
   "id": "d94afbee",
   "metadata": {},
   "outputs": [
    {
     "data": {
      "text/html": [
       "<div>\n",
       "<style scoped>\n",
       "    .dataframe tbody tr th:only-of-type {\n",
       "        vertical-align: middle;\n",
       "    }\n",
       "\n",
       "    .dataframe tbody tr th {\n",
       "        vertical-align: top;\n",
       "    }\n",
       "\n",
       "    .dataframe thead th {\n",
       "        text-align: right;\n",
       "    }\n",
       "</style>\n",
       "<table border=\"1\" class=\"dataframe\">\n",
       "  <thead>\n",
       "    <tr style=\"text-align: right;\">\n",
       "      <th></th>\n",
       "      <th>종목코드</th>\n",
       "      <th>기업명</th>\n",
       "      <th>samsung</th>\n",
       "    </tr>\n",
       "    <tr>\n",
       "      <th>날짜</th>\n",
       "      <th></th>\n",
       "      <th></th>\n",
       "      <th></th>\n",
       "    </tr>\n",
       "  </thead>\n",
       "  <tbody>\n",
       "    <tr>\n",
       "      <th>2000-01-04</th>\n",
       "      <td>KRX:005930</td>\n",
       "      <td>삼성전자</td>\n",
       "      <td>6110</td>\n",
       "    </tr>\n",
       "    <tr>\n",
       "      <th>2000-01-05</th>\n",
       "      <td>KRX:005930</td>\n",
       "      <td>삼성전자</td>\n",
       "      <td>5580</td>\n",
       "    </tr>\n",
       "    <tr>\n",
       "      <th>2000-01-06</th>\n",
       "      <td>KRX:005930</td>\n",
       "      <td>삼성전자</td>\n",
       "      <td>5620</td>\n",
       "    </tr>\n",
       "    <tr>\n",
       "      <th>2000-01-07</th>\n",
       "      <td>KRX:005930</td>\n",
       "      <td>삼성전자</td>\n",
       "      <td>5540</td>\n",
       "    </tr>\n",
       "    <tr>\n",
       "      <th>2000-01-10</th>\n",
       "      <td>KRX:005930</td>\n",
       "      <td>삼성전자</td>\n",
       "      <td>5770</td>\n",
       "    </tr>\n",
       "  </tbody>\n",
       "</table>\n",
       "</div>"
      ],
      "text/plain": [
       "                  종목코드   기업명  samsung\n",
       "날짜                                   \n",
       "2000-01-04  KRX:005930  삼성전자     6110\n",
       "2000-01-05  KRX:005930  삼성전자     5580\n",
       "2000-01-06  KRX:005930  삼성전자     5620\n",
       "2000-01-07  KRX:005930  삼성전자     5540\n",
       "2000-01-10  KRX:005930  삼성전자     5770"
      ]
     },
     "execution_count": 52,
     "metadata": {},
     "output_type": "execute_result"
    }
   ],
   "source": [
    "df_samsung.head()"
   ]
  },
  {
   "cell_type": "code",
   "execution_count": 56,
   "id": "75e6743e",
   "metadata": {},
   "outputs": [],
   "source": [
    "#df_samsung['samsung'].to_frame() #series를 컬럼이 하나인 테이블로\n",
    "df_samsung=df_samsung[['samsung']]"
   ]
  },
  {
   "cell_type": "code",
   "execution_count": 57,
   "id": "071719c3",
   "metadata": {},
   "outputs": [
    {
     "data": {
      "text/html": [
       "<div>\n",
       "<style scoped>\n",
       "    .dataframe tbody tr th:only-of-type {\n",
       "        vertical-align: middle;\n",
       "    }\n",
       "\n",
       "    .dataframe tbody tr th {\n",
       "        vertical-align: top;\n",
       "    }\n",
       "\n",
       "    .dataframe thead th {\n",
       "        text-align: right;\n",
       "    }\n",
       "</style>\n",
       "<table border=\"1\" class=\"dataframe\">\n",
       "  <thead>\n",
       "    <tr style=\"text-align: right;\">\n",
       "      <th></th>\n",
       "      <th>samsung</th>\n",
       "    </tr>\n",
       "    <tr>\n",
       "      <th>날짜</th>\n",
       "      <th></th>\n",
       "    </tr>\n",
       "  </thead>\n",
       "  <tbody>\n",
       "    <tr>\n",
       "      <th>2000-01-04</th>\n",
       "      <td>6110</td>\n",
       "    </tr>\n",
       "    <tr>\n",
       "      <th>2000-01-05</th>\n",
       "      <td>5580</td>\n",
       "    </tr>\n",
       "    <tr>\n",
       "      <th>2000-01-06</th>\n",
       "      <td>5620</td>\n",
       "    </tr>\n",
       "    <tr>\n",
       "      <th>2000-01-07</th>\n",
       "      <td>5540</td>\n",
       "    </tr>\n",
       "    <tr>\n",
       "      <th>2000-01-10</th>\n",
       "      <td>5770</td>\n",
       "    </tr>\n",
       "    <tr>\n",
       "      <th>...</th>\n",
       "      <td>...</td>\n",
       "    </tr>\n",
       "    <tr>\n",
       "      <th>2021-12-13</th>\n",
       "      <td>76800</td>\n",
       "    </tr>\n",
       "    <tr>\n",
       "      <th>2021-12-14</th>\n",
       "      <td>77000</td>\n",
       "    </tr>\n",
       "    <tr>\n",
       "      <th>2021-12-15</th>\n",
       "      <td>77600</td>\n",
       "    </tr>\n",
       "    <tr>\n",
       "      <th>2021-12-16</th>\n",
       "      <td>77800</td>\n",
       "    </tr>\n",
       "    <tr>\n",
       "      <th>2021-12-17</th>\n",
       "      <td>78000</td>\n",
       "    </tr>\n",
       "  </tbody>\n",
       "</table>\n",
       "<p>5423 rows × 1 columns</p>\n",
       "</div>"
      ],
      "text/plain": [
       "            samsung\n",
       "날짜                 \n",
       "2000-01-04     6110\n",
       "2000-01-05     5580\n",
       "2000-01-06     5620\n",
       "2000-01-07     5540\n",
       "2000-01-10     5770\n",
       "...             ...\n",
       "2021-12-13    76800\n",
       "2021-12-14    77000\n",
       "2021-12-15    77600\n",
       "2021-12-16    77800\n",
       "2021-12-17    78000\n",
       "\n",
       "[5423 rows x 1 columns]"
      ]
     },
     "execution_count": 57,
     "metadata": {},
     "output_type": "execute_result"
    }
   ],
   "source": [
    "df_samsung"
   ]
  },
  {
   "cell_type": "code",
   "execution_count": null,
   "id": "c171fd4c",
   "metadata": {},
   "outputs": [],
   "source": []
  },
  {
   "cell_type": "code",
   "execution_count": 58,
   "id": "aa6b5735",
   "metadata": {},
   "outputs": [],
   "source": [
    "df_lg = df_lg.rename(\n",
    "    columns={'주가 2000-2021':'lg'}\n",
    ")"
   ]
  },
  {
   "cell_type": "code",
   "execution_count": 59,
   "id": "a62d5eef",
   "metadata": {},
   "outputs": [
    {
     "data": {
      "text/html": [
       "<div>\n",
       "<style scoped>\n",
       "    .dataframe tbody tr th:only-of-type {\n",
       "        vertical-align: middle;\n",
       "    }\n",
       "\n",
       "    .dataframe tbody tr th {\n",
       "        vertical-align: top;\n",
       "    }\n",
       "\n",
       "    .dataframe thead th {\n",
       "        text-align: right;\n",
       "    }\n",
       "</style>\n",
       "<table border=\"1\" class=\"dataframe\">\n",
       "  <thead>\n",
       "    <tr style=\"text-align: right;\">\n",
       "      <th></th>\n",
       "      <th>종목코드</th>\n",
       "      <th>기업명</th>\n",
       "      <th>lg</th>\n",
       "    </tr>\n",
       "    <tr>\n",
       "      <th>날짜</th>\n",
       "      <th></th>\n",
       "      <th></th>\n",
       "      <th></th>\n",
       "    </tr>\n",
       "  </thead>\n",
       "  <tbody>\n",
       "    <tr>\n",
       "      <th>2002-04-22</th>\n",
       "      <td>KRX:066570</td>\n",
       "      <td>LG전자</td>\n",
       "      <td>62936</td>\n",
       "    </tr>\n",
       "    <tr>\n",
       "      <th>2002-04-23</th>\n",
       "      <td>KRX:066570</td>\n",
       "      <td>LG전자</td>\n",
       "      <td>57463</td>\n",
       "    </tr>\n",
       "    <tr>\n",
       "      <th>2002-04-24</th>\n",
       "      <td>KRX:066570</td>\n",
       "      <td>LG전자</td>\n",
       "      <td>55704</td>\n",
       "    </tr>\n",
       "    <tr>\n",
       "      <th>2002-04-25</th>\n",
       "      <td>KRX:066570</td>\n",
       "      <td>LG전자</td>\n",
       "      <td>51209</td>\n",
       "    </tr>\n",
       "    <tr>\n",
       "      <th>2002-04-26</th>\n",
       "      <td>KRX:066570</td>\n",
       "      <td>LG전자</td>\n",
       "      <td>53554</td>\n",
       "    </tr>\n",
       "  </tbody>\n",
       "</table>\n",
       "</div>"
      ],
      "text/plain": [
       "                  종목코드   기업명     lg\n",
       "날짜                                 \n",
       "2002-04-22  KRX:066570  LG전자  62936\n",
       "2002-04-23  KRX:066570  LG전자  57463\n",
       "2002-04-24  KRX:066570  LG전자  55704\n",
       "2002-04-25  KRX:066570  LG전자  51209\n",
       "2002-04-26  KRX:066570  LG전자  53554"
      ]
     },
     "execution_count": 59,
     "metadata": {},
     "output_type": "execute_result"
    }
   ],
   "source": [
    "df_lg.head()"
   ]
  },
  {
   "cell_type": "code",
   "execution_count": 60,
   "id": "645c3ddd",
   "metadata": {},
   "outputs": [],
   "source": [
    "#df_samsung['samsung'].to_frame() #series를 컬럼이 하나인 테이블로\n",
    "df_lg=df_lg[['lg']]"
   ]
  },
  {
   "cell_type": "code",
   "execution_count": 61,
   "id": "421f16e2",
   "metadata": {},
   "outputs": [
    {
     "data": {
      "text/html": [
       "<div>\n",
       "<style scoped>\n",
       "    .dataframe tbody tr th:only-of-type {\n",
       "        vertical-align: middle;\n",
       "    }\n",
       "\n",
       "    .dataframe tbody tr th {\n",
       "        vertical-align: top;\n",
       "    }\n",
       "\n",
       "    .dataframe thead th {\n",
       "        text-align: right;\n",
       "    }\n",
       "</style>\n",
       "<table border=\"1\" class=\"dataframe\">\n",
       "  <thead>\n",
       "    <tr style=\"text-align: right;\">\n",
       "      <th></th>\n",
       "      <th>lg</th>\n",
       "    </tr>\n",
       "    <tr>\n",
       "      <th>날짜</th>\n",
       "      <th></th>\n",
       "    </tr>\n",
       "  </thead>\n",
       "  <tbody>\n",
       "    <tr>\n",
       "      <th>2002-04-22</th>\n",
       "      <td>62936</td>\n",
       "    </tr>\n",
       "    <tr>\n",
       "      <th>2002-04-23</th>\n",
       "      <td>57463</td>\n",
       "    </tr>\n",
       "    <tr>\n",
       "      <th>2002-04-24</th>\n",
       "      <td>55704</td>\n",
       "    </tr>\n",
       "    <tr>\n",
       "      <th>2002-04-25</th>\n",
       "      <td>51209</td>\n",
       "    </tr>\n",
       "    <tr>\n",
       "      <th>2002-04-26</th>\n",
       "      <td>53554</td>\n",
       "    </tr>\n",
       "    <tr>\n",
       "      <th>...</th>\n",
       "      <td>...</td>\n",
       "    </tr>\n",
       "    <tr>\n",
       "      <th>2021-12-13</th>\n",
       "      <td>134000</td>\n",
       "    </tr>\n",
       "    <tr>\n",
       "      <th>2021-12-14</th>\n",
       "      <td>128500</td>\n",
       "    </tr>\n",
       "    <tr>\n",
       "      <th>2021-12-15</th>\n",
       "      <td>129500</td>\n",
       "    </tr>\n",
       "    <tr>\n",
       "      <th>2021-12-16</th>\n",
       "      <td>130000</td>\n",
       "    </tr>\n",
       "    <tr>\n",
       "      <th>2021-12-17</th>\n",
       "      <td>129500</td>\n",
       "    </tr>\n",
       "  </tbody>\n",
       "</table>\n",
       "<p>4863 rows × 1 columns</p>\n",
       "</div>"
      ],
      "text/plain": [
       "                lg\n",
       "날짜                \n",
       "2002-04-22   62936\n",
       "2002-04-23   57463\n",
       "2002-04-24   55704\n",
       "2002-04-25   51209\n",
       "2002-04-26   53554\n",
       "...            ...\n",
       "2021-12-13  134000\n",
       "2021-12-14  128500\n",
       "2021-12-15  129500\n",
       "2021-12-16  130000\n",
       "2021-12-17  129500\n",
       "\n",
       "[4863 rows x 1 columns]"
      ]
     },
     "execution_count": 61,
     "metadata": {},
     "output_type": "execute_result"
    }
   ],
   "source": [
    "df_lg"
   ]
  },
  {
   "cell_type": "markdown",
   "id": "2c6a5ea8",
   "metadata": {},
   "source": [
    "## Merge the two dataframes"
   ]
  },
  {
   "cell_type": "code",
   "execution_count": 68,
   "id": "080ddd7a",
   "metadata": {},
   "outputs": [],
   "source": [
    "df_merged = df_samsung.join(df_lg, how='left') #join은 index기준으로 join을 수행함. merge는 어떤 컬럼을 기준으로 하는지 적어줘야함 / left join"
   ]
  },
  {
   "cell_type": "code",
   "execution_count": 69,
   "id": "3f723076",
   "metadata": {},
   "outputs": [
    {
     "data": {
      "text/html": [
       "<div>\n",
       "<style scoped>\n",
       "    .dataframe tbody tr th:only-of-type {\n",
       "        vertical-align: middle;\n",
       "    }\n",
       "\n",
       "    .dataframe tbody tr th {\n",
       "        vertical-align: top;\n",
       "    }\n",
       "\n",
       "    .dataframe thead th {\n",
       "        text-align: right;\n",
       "    }\n",
       "</style>\n",
       "<table border=\"1\" class=\"dataframe\">\n",
       "  <thead>\n",
       "    <tr style=\"text-align: right;\">\n",
       "      <th></th>\n",
       "      <th>samsung</th>\n",
       "      <th>lg</th>\n",
       "    </tr>\n",
       "    <tr>\n",
       "      <th>날짜</th>\n",
       "      <th></th>\n",
       "      <th></th>\n",
       "    </tr>\n",
       "  </thead>\n",
       "  <tbody>\n",
       "    <tr>\n",
       "      <th>2000-01-04</th>\n",
       "      <td>6110</td>\n",
       "      <td>NaN</td>\n",
       "    </tr>\n",
       "    <tr>\n",
       "      <th>2000-01-05</th>\n",
       "      <td>5580</td>\n",
       "      <td>NaN</td>\n",
       "    </tr>\n",
       "    <tr>\n",
       "      <th>2000-01-06</th>\n",
       "      <td>5620</td>\n",
       "      <td>NaN</td>\n",
       "    </tr>\n",
       "    <tr>\n",
       "      <th>2000-01-07</th>\n",
       "      <td>5540</td>\n",
       "      <td>NaN</td>\n",
       "    </tr>\n",
       "    <tr>\n",
       "      <th>2000-01-10</th>\n",
       "      <td>5770</td>\n",
       "      <td>NaN</td>\n",
       "    </tr>\n",
       "  </tbody>\n",
       "</table>\n",
       "</div>"
      ],
      "text/plain": [
       "            samsung  lg\n",
       "날짜                     \n",
       "2000-01-04     6110 NaN\n",
       "2000-01-05     5580 NaN\n",
       "2000-01-06     5620 NaN\n",
       "2000-01-07     5540 NaN\n",
       "2000-01-10     5770 NaN"
      ]
     },
     "execution_count": 69,
     "metadata": {},
     "output_type": "execute_result"
    }
   ],
   "source": [
    "df_merged.head()"
   ]
  },
  {
   "cell_type": "code",
   "execution_count": 66,
   "id": "d68e5e42",
   "metadata": {},
   "outputs": [
    {
     "data": {
      "text/html": [
       "<div>\n",
       "<style scoped>\n",
       "    .dataframe tbody tr th:only-of-type {\n",
       "        vertical-align: middle;\n",
       "    }\n",
       "\n",
       "    .dataframe tbody tr th {\n",
       "        vertical-align: top;\n",
       "    }\n",
       "\n",
       "    .dataframe thead th {\n",
       "        text-align: right;\n",
       "    }\n",
       "</style>\n",
       "<table border=\"1\" class=\"dataframe\">\n",
       "  <thead>\n",
       "    <tr style=\"text-align: right;\">\n",
       "      <th></th>\n",
       "      <th>samsung</th>\n",
       "      <th>lg</th>\n",
       "    </tr>\n",
       "    <tr>\n",
       "      <th>날짜</th>\n",
       "      <th></th>\n",
       "      <th></th>\n",
       "    </tr>\n",
       "  </thead>\n",
       "  <tbody>\n",
       "    <tr>\n",
       "      <th>2021-12-13</th>\n",
       "      <td>76800</td>\n",
       "      <td>134000.0</td>\n",
       "    </tr>\n",
       "    <tr>\n",
       "      <th>2021-12-14</th>\n",
       "      <td>77000</td>\n",
       "      <td>128500.0</td>\n",
       "    </tr>\n",
       "    <tr>\n",
       "      <th>2021-12-15</th>\n",
       "      <td>77600</td>\n",
       "      <td>129500.0</td>\n",
       "    </tr>\n",
       "    <tr>\n",
       "      <th>2021-12-16</th>\n",
       "      <td>77800</td>\n",
       "      <td>130000.0</td>\n",
       "    </tr>\n",
       "    <tr>\n",
       "      <th>2021-12-17</th>\n",
       "      <td>78000</td>\n",
       "      <td>129500.0</td>\n",
       "    </tr>\n",
       "  </tbody>\n",
       "</table>\n",
       "</div>"
      ],
      "text/plain": [
       "            samsung        lg\n",
       "날짜                           \n",
       "2021-12-13    76800  134000.0\n",
       "2021-12-14    77000  128500.0\n",
       "2021-12-15    77600  129500.0\n",
       "2021-12-16    77800  130000.0\n",
       "2021-12-17    78000  129500.0"
      ]
     },
     "execution_count": 66,
     "metadata": {},
     "output_type": "execute_result"
    }
   ],
   "source": [
    "df_merged.tail()"
   ]
  },
  {
   "cell_type": "code",
   "execution_count": 67,
   "id": "77bcff03",
   "metadata": {},
   "outputs": [
    {
     "data": {
      "text/html": [
       "<div>\n",
       "<style scoped>\n",
       "    .dataframe tbody tr th:only-of-type {\n",
       "        vertical-align: middle;\n",
       "    }\n",
       "\n",
       "    .dataframe tbody tr th {\n",
       "        vertical-align: top;\n",
       "    }\n",
       "\n",
       "    .dataframe thead th {\n",
       "        text-align: right;\n",
       "    }\n",
       "</style>\n",
       "<table border=\"1\" class=\"dataframe\">\n",
       "  <thead>\n",
       "    <tr style=\"text-align: right;\">\n",
       "      <th></th>\n",
       "      <th>lg</th>\n",
       "    </tr>\n",
       "    <tr>\n",
       "      <th>날짜</th>\n",
       "      <th></th>\n",
       "    </tr>\n",
       "  </thead>\n",
       "  <tbody>\n",
       "    <tr>\n",
       "      <th>2002-04-22</th>\n",
       "      <td>62936</td>\n",
       "    </tr>\n",
       "    <tr>\n",
       "      <th>2002-04-23</th>\n",
       "      <td>57463</td>\n",
       "    </tr>\n",
       "    <tr>\n",
       "      <th>2002-04-24</th>\n",
       "      <td>55704</td>\n",
       "    </tr>\n",
       "  </tbody>\n",
       "</table>\n",
       "</div>"
      ],
      "text/plain": [
       "               lg\n",
       "날짜               \n",
       "2002-04-22  62936\n",
       "2002-04-23  57463\n",
       "2002-04-24  55704"
      ]
     },
     "execution_count": 67,
     "metadata": {},
     "output_type": "execute_result"
    }
   ],
   "source": [
    "df_lg.head(3)"
   ]
  },
  {
   "cell_type": "markdown",
   "id": "2f9f9286",
   "metadata": {},
   "source": [
    "## drop null values"
   ]
  },
  {
   "cell_type": "code",
   "execution_count": 71,
   "id": "aa6e1a72",
   "metadata": {},
   "outputs": [],
   "source": [
    "df_merged = df_merged.dropna()"
   ]
  },
  {
   "cell_type": "code",
   "execution_count": 72,
   "id": "4a306548",
   "metadata": {},
   "outputs": [
    {
     "data": {
      "text/html": [
       "<div>\n",
       "<style scoped>\n",
       "    .dataframe tbody tr th:only-of-type {\n",
       "        vertical-align: middle;\n",
       "    }\n",
       "\n",
       "    .dataframe tbody tr th {\n",
       "        vertical-align: top;\n",
       "    }\n",
       "\n",
       "    .dataframe thead th {\n",
       "        text-align: right;\n",
       "    }\n",
       "</style>\n",
       "<table border=\"1\" class=\"dataframe\">\n",
       "  <thead>\n",
       "    <tr style=\"text-align: right;\">\n",
       "      <th></th>\n",
       "      <th>samsung</th>\n",
       "      <th>lg</th>\n",
       "    </tr>\n",
       "    <tr>\n",
       "      <th>날짜</th>\n",
       "      <th></th>\n",
       "      <th></th>\n",
       "    </tr>\n",
       "  </thead>\n",
       "  <tbody>\n",
       "    <tr>\n",
       "      <th>2002-04-22</th>\n",
       "      <td>8200</td>\n",
       "      <td>62936.0</td>\n",
       "    </tr>\n",
       "    <tr>\n",
       "      <th>2002-04-23</th>\n",
       "      <td>8540</td>\n",
       "      <td>57463.0</td>\n",
       "    </tr>\n",
       "    <tr>\n",
       "      <th>2002-04-24</th>\n",
       "      <td>8640</td>\n",
       "      <td>55704.0</td>\n",
       "    </tr>\n",
       "  </tbody>\n",
       "</table>\n",
       "</div>"
      ],
      "text/plain": [
       "            samsung       lg\n",
       "날짜                          \n",
       "2002-04-22     8200  62936.0\n",
       "2002-04-23     8540  57463.0\n",
       "2002-04-24     8640  55704.0"
      ]
     },
     "execution_count": 72,
     "metadata": {},
     "output_type": "execute_result"
    }
   ],
   "source": [
    "df_merged.head(3)"
   ]
  },
  {
   "cell_type": "markdown",
   "id": "e3d16222",
   "metadata": {},
   "source": [
    "## plot a time-series chart"
   ]
  },
  {
   "cell_type": "code",
   "execution_count": 74,
   "id": "619e5079",
   "metadata": {},
   "outputs": [
    {
     "data": {
      "image/png": "[encoded data removed]",
      "text/plain": [
       "<Figure size 432x288 with 1 Axes>"
      ]
     },
     "metadata": {
      "needs_background": "light"
     },
     "output_type": "display_data"
    }
   ],
   "source": [
    "plt.plot(df_merged['samsung'],label='Samsung')\n",
    "plt.plot(df_merged['lg'],label='LG')\n",
    "plt.legend()\n",
    "plt.show()"
   ]
  },
  {
   "cell_type": "markdown",
   "id": "b7ecbd39",
   "metadata": {},
   "source": [
    "## normalize the stock prices"
   ]
  },
  {
   "cell_type": "code",
   "execution_count": 75,
   "id": "4c9b2abe",
   "metadata": {},
   "outputs": [],
   "source": [
    "init = df_merged.iloc[0]"
   ]
  },
  {
   "cell_type": "code",
   "execution_count": 76,
   "id": "5545c2fd",
   "metadata": {},
   "outputs": [
    {
     "data": {
      "text/plain": [
       "samsung     8200.0\n",
       "lg         62936.0\n",
       "Name: 2002-04-22 00:00:00, dtype: float64"
      ]
     },
     "execution_count": 76,
     "metadata": {},
     "output_type": "execute_result"
    }
   ],
   "source": [
    "init"
   ]
  },
  {
   "cell_type": "code",
   "execution_count": 77,
   "id": "06dc2e07",
   "metadata": {},
   "outputs": [],
   "source": [
    "df_merged['samsung_norm'] = df_merged['samsung'] / init.samsung * 100"
   ]
  },
  {
   "cell_type": "code",
   "execution_count": 78,
   "id": "844c9825",
   "metadata": {},
   "outputs": [],
   "source": [
    "df_merged['lg_norm'] = df_merged['lg'] / init.lg * 100"
   ]
  },
  {
   "cell_type": "code",
   "execution_count": 79,
   "id": "1c233195",
   "metadata": {},
   "outputs": [
    {
     "data": {
      "text/html": [
       "<div>\n",
       "<style scoped>\n",
       "    .dataframe tbody tr th:only-of-type {\n",
       "        vertical-align: middle;\n",
       "    }\n",
       "\n",
       "    .dataframe tbody tr th {\n",
       "        vertical-align: top;\n",
       "    }\n",
       "\n",
       "    .dataframe thead th {\n",
       "        text-align: right;\n",
       "    }\n",
       "</style>\n",
       "<table border=\"1\" class=\"dataframe\">\n",
       "  <thead>\n",
       "    <tr style=\"text-align: right;\">\n",
       "      <th></th>\n",
       "      <th>samsung</th>\n",
       "      <th>lg</th>\n",
       "      <th>samsung_norm</th>\n",
       "      <th>lg_norm</th>\n",
       "    </tr>\n",
       "    <tr>\n",
       "      <th>날짜</th>\n",
       "      <th></th>\n",
       "      <th></th>\n",
       "      <th></th>\n",
       "      <th></th>\n",
       "    </tr>\n",
       "  </thead>\n",
       "  <tbody>\n",
       "    <tr>\n",
       "      <th>2002-04-22</th>\n",
       "      <td>8200</td>\n",
       "      <td>62936.0</td>\n",
       "      <td>100.000000</td>\n",
       "      <td>100.000000</td>\n",
       "    </tr>\n",
       "    <tr>\n",
       "      <th>2002-04-23</th>\n",
       "      <td>8540</td>\n",
       "      <td>57463.0</td>\n",
       "      <td>104.146341</td>\n",
       "      <td>91.303864</td>\n",
       "    </tr>\n",
       "    <tr>\n",
       "      <th>2002-04-24</th>\n",
       "      <td>8640</td>\n",
       "      <td>55704.0</td>\n",
       "      <td>105.365854</td>\n",
       "      <td>88.508961</td>\n",
       "    </tr>\n",
       "    <tr>\n",
       "      <th>2002-04-25</th>\n",
       "      <td>8260</td>\n",
       "      <td>51209.0</td>\n",
       "      <td>100.731707</td>\n",
       "      <td>81.366785</td>\n",
       "    </tr>\n",
       "    <tr>\n",
       "      <th>2002-04-26</th>\n",
       "      <td>8000</td>\n",
       "      <td>53554.0</td>\n",
       "      <td>97.560976</td>\n",
       "      <td>85.092793</td>\n",
       "    </tr>\n",
       "  </tbody>\n",
       "</table>\n",
       "</div>"
      ],
      "text/plain": [
       "            samsung       lg  samsung_norm     lg_norm\n",
       "날짜                                                    \n",
       "2002-04-22     8200  62936.0    100.000000  100.000000\n",
       "2002-04-23     8540  57463.0    104.146341   91.303864\n",
       "2002-04-24     8640  55704.0    105.365854   88.508961\n",
       "2002-04-25     8260  51209.0    100.731707   81.366785\n",
       "2002-04-26     8000  53554.0     97.560976   85.092793"
      ]
     },
     "execution_count": 79,
     "metadata": {},
     "output_type": "execute_result"
    }
   ],
   "source": [
    "df_merged.head()"
   ]
  },
  {
   "cell_type": "code",
   "execution_count": 80,
   "id": "7b139131",
   "metadata": {},
   "outputs": [
    {
     "data": {
      "image/png": "[encoded data removed]",
      "text/plain": [
       "<Figure size 432x288 with 1 Axes>"
      ]
     },
     "metadata": {
      "needs_background": "light"
     },
     "output_type": "display_data"
    }
   ],
   "source": [
    "plt.plot(df_merged['samsung_norm'],label='Samsung')\n",
    "plt.plot(df_merged['lg_norm'],label='LG')\n",
    "plt.legend()\n",
    "plt.show()"
   ]
  },
  {
   "cell_type": "code",
   "execution_count": 81,
   "id": "4c03c543",
   "metadata": {},
   "outputs": [
    {
     "data": {
      "text/html": [
       "<div>\n",
       "<style scoped>\n",
       "    .dataframe tbody tr th:only-of-type {\n",
       "        vertical-align: middle;\n",
       "    }\n",
       "\n",
       "    .dataframe tbody tr th {\n",
       "        vertical-align: top;\n",
       "    }\n",
       "\n",
       "    .dataframe thead th {\n",
       "        text-align: right;\n",
       "    }\n",
       "</style>\n",
       "<table border=\"1\" class=\"dataframe\">\n",
       "  <thead>\n",
       "    <tr style=\"text-align: right;\">\n",
       "      <th></th>\n",
       "      <th>samsung</th>\n",
       "      <th>lg</th>\n",
       "      <th>samsung_norm</th>\n",
       "      <th>lg_norm</th>\n",
       "    </tr>\n",
       "    <tr>\n",
       "      <th>날짜</th>\n",
       "      <th></th>\n",
       "      <th></th>\n",
       "      <th></th>\n",
       "      <th></th>\n",
       "    </tr>\n",
       "  </thead>\n",
       "  <tbody>\n",
       "    <tr>\n",
       "      <th>2021-12-15</th>\n",
       "      <td>77600</td>\n",
       "      <td>129500.0</td>\n",
       "      <td>946.341463</td>\n",
       "      <td>205.764586</td>\n",
       "    </tr>\n",
       "    <tr>\n",
       "      <th>2021-12-16</th>\n",
       "      <td>77800</td>\n",
       "      <td>130000.0</td>\n",
       "      <td>948.780488</td>\n",
       "      <td>206.559044</td>\n",
       "    </tr>\n",
       "    <tr>\n",
       "      <th>2021-12-17</th>\n",
       "      <td>78000</td>\n",
       "      <td>129500.0</td>\n",
       "      <td>951.219512</td>\n",
       "      <td>205.764586</td>\n",
       "    </tr>\n",
       "  </tbody>\n",
       "</table>\n",
       "</div>"
      ],
      "text/plain": [
       "            samsung        lg  samsung_norm     lg_norm\n",
       "날짜                                                     \n",
       "2021-12-15    77600  129500.0    946.341463  205.764586\n",
       "2021-12-16    77800  130000.0    948.780488  206.559044\n",
       "2021-12-17    78000  129500.0    951.219512  205.764586"
      ]
     },
     "execution_count": 81,
     "metadata": {},
     "output_type": "execute_result"
    }
   ],
   "source": [
    "df_merged.tail(3)"
   ]
  },
  {
   "cell_type": "markdown",
   "id": "61cc41a5",
   "metadata": {},
   "source": [
    "## 잘못된 주가 예측"
   ]
  },
  {
   "cell_type": "code",
   "execution_count": 82,
   "id": "7c85d77e",
   "metadata": {},
   "outputs": [],
   "source": [
    "import statsmodels.api as sm"
   ]
  },
  {
   "cell_type": "code",
   "execution_count": 83,
   "id": "f5c8b8b4",
   "metadata": {},
   "outputs": [],
   "source": [
    "samsung = df_samsung['samsung']"
   ]
  },
  {
   "cell_type": "code",
   "execution_count": 84,
   "id": "9ff1f6e4",
   "metadata": {},
   "outputs": [
    {
     "data": {
      "text/plain": [
       "날짜\n",
       "2000-01-04    6110\n",
       "2000-01-05    5580\n",
       "2000-01-06    5620\n",
       "2000-01-07    5540\n",
       "2000-01-10    5770\n",
       "Name: samsung, dtype: int64"
      ]
     },
     "execution_count": 84,
     "metadata": {},
     "output_type": "execute_result"
    }
   ],
   "source": [
    "samsung.head(5)"
   ]
  },
  {
   "cell_type": "code",
   "execution_count": 85,
   "id": "a6ef99de",
   "metadata": {},
   "outputs": [],
   "source": [
    "today = samsung.iloc[:-1]"
   ]
  },
  {
   "cell_type": "code",
   "execution_count": 86,
   "id": "4cc2d833",
   "metadata": {},
   "outputs": [],
   "source": [
    "tomorrow = samsung.iloc[1:]"
   ]
  },
  {
   "cell_type": "code",
   "execution_count": 87,
   "id": "37b88882",
   "metadata": {},
   "outputs": [
    {
     "name": "stderr",
     "output_type": "stream",
     "text": [
      "/Users/junghoij/opt/anaconda3/lib/python3.9/site-packages/statsmodels/tsa/tsatools.py:142: FutureWarning: In a future version of pandas all arguments of concat except for the argument 'objs' will be keyword-only\n",
      "  x = pd.concat(x[::order], 1)\n"
     ]
    }
   ],
   "source": [
    "X=sm.add_constant(today)"
   ]
  },
  {
   "cell_type": "code",
   "execution_count": 88,
   "id": "5e213951",
   "metadata": {},
   "outputs": [
    {
     "data": {
      "text/html": [
       "<div>\n",
       "<style scoped>\n",
       "    .dataframe tbody tr th:only-of-type {\n",
       "        vertical-align: middle;\n",
       "    }\n",
       "\n",
       "    .dataframe tbody tr th {\n",
       "        vertical-align: top;\n",
       "    }\n",
       "\n",
       "    .dataframe thead th {\n",
       "        text-align: right;\n",
       "    }\n",
       "</style>\n",
       "<table border=\"1\" class=\"dataframe\">\n",
       "  <thead>\n",
       "    <tr style=\"text-align: right;\">\n",
       "      <th></th>\n",
       "      <th>const</th>\n",
       "      <th>samsung</th>\n",
       "    </tr>\n",
       "    <tr>\n",
       "      <th>날짜</th>\n",
       "      <th></th>\n",
       "      <th></th>\n",
       "    </tr>\n",
       "  </thead>\n",
       "  <tbody>\n",
       "    <tr>\n",
       "      <th>2000-01-04</th>\n",
       "      <td>1.0</td>\n",
       "      <td>6110</td>\n",
       "    </tr>\n",
       "    <tr>\n",
       "      <th>2000-01-05</th>\n",
       "      <td>1.0</td>\n",
       "      <td>5580</td>\n",
       "    </tr>\n",
       "    <tr>\n",
       "      <th>2000-01-06</th>\n",
       "      <td>1.0</td>\n",
       "      <td>5620</td>\n",
       "    </tr>\n",
       "  </tbody>\n",
       "</table>\n",
       "</div>"
      ],
      "text/plain": [
       "            const  samsung\n",
       "날짜                        \n",
       "2000-01-04    1.0     6110\n",
       "2000-01-05    1.0     5580\n",
       "2000-01-06    1.0     5620"
      ]
     },
     "execution_count": 88,
     "metadata": {},
     "output_type": "execute_result"
    }
   ],
   "source": [
    "X.head(3)"
   ]
  },
  {
   "cell_type": "code",
   "execution_count": 90,
   "id": "d5c24479",
   "metadata": {},
   "outputs": [],
   "source": [
    "model = sm.OLS(tomorrow,X.values)"
   ]
  },
  {
   "cell_type": "code",
   "execution_count": 91,
   "id": "2afdfa13",
   "metadata": {},
   "outputs": [],
   "source": [
    "result = model.fit()"
   ]
  },
  {
   "cell_type": "code",
   "execution_count": 92,
   "id": "2b688e19",
   "metadata": {},
   "outputs": [
    {
     "data": {
      "text/html": [
       "<table class=\"simpletable\">\n",
       "<caption>OLS Regression Results</caption>\n",
       "<tr>\n",
       "  <th>Dep. Variable:</th>         <td>samsung</td>     <th>  R-squared:         </th> <td>   0.999</td> \n",
       "</tr>\n",
       "<tr>\n",
       "  <th>Model:</th>                   <td>OLS</td>       <th>  Adj. R-squared:    </th> <td>   0.999</td> \n",
       "</tr>\n",
       "<tr>\n",
       "  <th>Method:</th>             <td>Least Squares</td>  <th>  F-statistic:       </th> <td>7.619e+06</td>\n",
       "</tr>\n",
       "<tr>\n",
       "  <th>Date:</th>             <td>Tue, 21 Dec 2021</td> <th>  Prob (F-statistic):</th>  <td>  0.00</td>  \n",
       "</tr>\n",
       "<tr>\n",
       "  <th>Time:</th>                 <td>21:36:10</td>     <th>  Log-Likelihood:    </th> <td> -41535.</td> \n",
       "</tr>\n",
       "<tr>\n",
       "  <th>No. Observations:</th>      <td>  5422</td>      <th>  AIC:               </th> <td>8.307e+04</td>\n",
       "</tr>\n",
       "<tr>\n",
       "  <th>Df Residuals:</th>          <td>  5420</td>      <th>  BIC:               </th> <td>8.309e+04</td>\n",
       "</tr>\n",
       "<tr>\n",
       "  <th>Df Model:</th>              <td>     1</td>      <th>                     </th>     <td> </td>    \n",
       "</tr>\n",
       "<tr>\n",
       "  <th>Covariance Type:</th>      <td>nonrobust</td>    <th>                     </th>     <td> </td>    \n",
       "</tr>\n",
       "</table>\n",
       "<table class=\"simpletable\">\n",
       "<tr>\n",
       "    <td></td>       <th>coef</th>     <th>std err</th>      <th>t</th>      <th>P>|t|</th>  <th>[0.025</th>    <th>0.975]</th>  \n",
       "</tr>\n",
       "<tr>\n",
       "  <th>const</th> <td>    6.4820</td> <td>   11.236</td> <td>    0.577</td> <td> 0.564</td> <td>  -15.545</td> <td>   28.509</td>\n",
       "</tr>\n",
       "<tr>\n",
       "  <th>x1</th>    <td>    1.0003</td> <td>    0.000</td> <td> 2760.298</td> <td> 0.000</td> <td>    1.000</td> <td>    1.001</td>\n",
       "</tr>\n",
       "</table>\n",
       "<table class=\"simpletable\">\n",
       "<tr>\n",
       "  <th>Omnibus:</th>       <td>1236.099</td> <th>  Durbin-Watson:     </th> <td>   1.923</td> \n",
       "</tr>\n",
       "<tr>\n",
       "  <th>Prob(Omnibus):</th>  <td> 0.000</td>  <th>  Jarque-Bera (JB):  </th> <td>26428.334</td>\n",
       "</tr>\n",
       "<tr>\n",
       "  <th>Skew:</th>           <td> 0.554</td>  <th>  Prob(JB):          </th> <td>    0.00</td> \n",
       "</tr>\n",
       "<tr>\n",
       "  <th>Kurtosis:</th>       <td>13.759</td>  <th>  Cond. No.          </th> <td>4.99e+04</td> \n",
       "</tr>\n",
       "</table><br/><br/>Notes:<br/>[1] Standard Errors assume that the covariance matrix of the errors is correctly specified.<br/>[2] The condition number is large, 4.99e+04. This might indicate that there are<br/>strong multicollinearity or other numerical problems."
      ],
      "text/plain": [
       "<class 'statsmodels.iolib.summary.Summary'>\n",
       "\"\"\"\n",
       "                            OLS Regression Results                            \n",
       "==============================================================================\n",
       "Dep. Variable:                samsung   R-squared:                       0.999\n",
       "Model:                            OLS   Adj. R-squared:                  0.999\n",
       "Method:                 Least Squares   F-statistic:                 7.619e+06\n",
       "Date:                Tue, 21 Dec 2021   Prob (F-statistic):               0.00\n",
       "Time:                        21:36:10   Log-Likelihood:                -41535.\n",
       "No. Observations:                5422   AIC:                         8.307e+04\n",
       "Df Residuals:                    5420   BIC:                         8.309e+04\n",
       "Df Model:                           1                                         \n",
       "Covariance Type:            nonrobust                                         \n",
       "==============================================================================\n",
       "                 coef    std err          t      P>|t|      [0.025      0.975]\n",
       "------------------------------------------------------------------------------\n",
       "const          6.4820     11.236      0.577      0.564     -15.545      28.509\n",
       "x1             1.0003      0.000   2760.298      0.000       1.000       1.001\n",
       "==============================================================================\n",
       "Omnibus:                     1236.099   Durbin-Watson:                   1.923\n",
       "Prob(Omnibus):                  0.000   Jarque-Bera (JB):            26428.334\n",
       "Skew:                           0.554   Prob(JB):                         0.00\n",
       "Kurtosis:                      13.759   Cond. No.                     4.99e+04\n",
       "==============================================================================\n",
       "\n",
       "Notes:\n",
       "[1] Standard Errors assume that the covariance matrix of the errors is correctly specified.\n",
       "[2] The condition number is large, 4.99e+04. This might indicate that there are\n",
       "strong multicollinearity or other numerical problems.\n",
       "\"\"\""
      ]
     },
     "execution_count": 92,
     "metadata": {},
     "output_type": "execute_result"
    }
   ],
   "source": [
    "result.summary()"
   ]
  },
  {
   "cell_type": "code",
   "execution_count": null,
   "id": "fe37400e",
   "metadata": {},
   "outputs": [],
   "source": []
  }
 ],
 "metadata": {
  "kernelspec": {
   "display_name": "Python 3",
   "language": "python",
   "name": "python3"
  },
  "language_info": {
   "codemirror_mode": {
    "name": "ipython",
    "version": 3
   },
   "file_extension": ".py",
   "mimetype": "text/x-python",
   "name": "python",
   "nbconvert_exporter": "python",
   "pygments_lexer": "ipython3",
   "version": "3.9.7"
  }
 },
 "nbformat": 4,
 "nbformat_minor": 5
}
