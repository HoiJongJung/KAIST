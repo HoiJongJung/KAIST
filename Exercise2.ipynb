{
 "cells": [
  {
   "cell_type": "markdown",
   "id": "3b7d9f77-d562-4bb0-92cd-05ce575ff1dc",
   "metadata": {},
   "source": [
    "# BAF507-EXERCISE2"
   ]
  },
  {
   "cell_type": "markdown",
   "id": "f5421969-9c94-4c8c-baa6-e715dc01c6d0",
   "metadata": {},
   "source": [
    "# 정회종(20214125)"
   ]
  },
  {
   "cell_type": "markdown",
   "id": "92580751-b205-4a65-8cdc-5bea83ea86d0",
   "metadata": {},
   "source": [
    "## 1. 수식 입력하기 LaTex"
   ]
  },
  {
   "cell_type": "markdown",
   "id": "fd19699f-962f-4ed9-9799-c4ea976da7e2",
   "metadata": {},
   "source": [
    "\\begin{align}\n",
    "x+y &=3 \\\\\n",
    "2x -y &= 1\\\\\n",
    "\\therefore x=1&,y=2\n",
    "\\end{align}"
   ]
  },
  {
   "cell_type": "markdown",
   "id": "c65777b8-fd10-46e3-9a3b-f71ef258705f",
   "metadata": {},
   "source": [
    "## 근의 공식"
   ]
  },
  {
   "cell_type": "markdown",
   "id": "00a21fac-87e0-402a-8023-3daad7dcbc5c",
   "metadata": {},
   "source": [
    "$$\n",
    "a x^2+ b x + c = 0\n",
    "$$"
   ]
  },
  {
   "cell_type": "markdown",
   "id": "ae9f49fa-184b-4d45-920b-1cfa5a559578",
   "metadata": {},
   "source": [
    "$$\n",
    "x = \\frac{-b \\pm \\sqrt{b^2-4ac}}{2a}\n",
    "$$"
   ]
  },
  {
   "cell_type": "markdown",
   "id": "2055bff5-8c30-4bcc-be85-ba89ec1eadb3",
   "metadata": {},
   "source": [
    "## 2. DCF 로 NPV 계산하기"
   ]
  },
  {
   "cell_type": "markdown",
   "id": "918eb3f0-582d-478e-8d2f-cfe0b4c0a44e",
   "metadata": {},
   "source": [
    "아래와 같은 채권이 있다고 가정합니다.\n",
    "\n",
    "* Face value: $1,000\n",
    "* Maturity: 5 years\n",
    "* Coupon rate: 5\\% p.a. (per annum)\n",
    "* Coupon frequency: annual\n",
    "* Discount rate: 2\\%"
   ]
  },
  {
   "cell_type": "markdown",
   "id": "5725cbd6-89f1-46b4-8492-b0de2014d6b5",
   "metadata": {},
   "source": [
    "$$\n",
    "\\text{NPV} = \\sum_{t=1}^T \\frac{\\text{CF}_t}{(1+r)^t}\n",
    "$$"
   ]
  },
  {
   "cell_type": "code",
   "execution_count": 2,
   "id": "303f39f4-162a-4fc7-87bb-b12a8afbb4ad",
   "metadata": {},
   "outputs": [],
   "source": [
    "face = 1000\n",
    "T = 5\n",
    "c = 0.05\n",
    "r = 0.02"
   ]
  },
  {
   "cell_type": "markdown",
   "id": "a7d83756-dc31-4709-af88-2705f4644b8d",
   "metadata": {},
   "source": [
    "## 첫번째 방법"
   ]
  },
  {
   "cell_type": "code",
   "execution_count": 10,
   "id": "9e3700e9-817e-4fbf-b094-ec2179e89834",
   "metadata": {},
   "outputs": [
    {
     "name": "stdout",
     "output_type": "stream",
     "text": [
      "1 50.0 49.01960784313725\n",
      "2 50.0 48.05843906189927\n",
      "3 50.0 47.11611672735222\n",
      "4 50.0 46.19227130132571\n",
      "5 50.0 45.28654049149579\n",
      "1141.4037852551262\n",
      "\n",
      "NPV:1141.4038\n"
     ]
    }
   ],
   "source": [
    "NPV = 0\n",
    "\n",
    "for t in range(1, T+1):\n",
    "    CF = face * c\n",
    "    PV = CF / (1+r)**t\n",
    "    print(t,CF,PV)\n",
    "    NPV += PV\n",
    "  \n",
    "NPV += face / (1+r)**T\n",
    "\n",
    "print(NPV)\n",
    "\n",
    "print('')\n",
    "print('NPV:{:.4f}'.format(NPV))"
   ]
  },
  {
   "cell_type": "markdown",
   "id": "9da225ad-7518-4932-ab01-c023cabb1eed",
   "metadata": {},
   "source": [
    "### 두번째 짧게 쓰기"
   ]
  },
  {
   "cell_type": "code",
   "execution_count": 11,
   "id": "e7cbdeca-b58e-47f9-8505-a91a5589946f",
   "metadata": {},
   "outputs": [],
   "source": [
    "PVs = [face * c / (1+r)**t for t in range(1,T+1)]"
   ]
  },
  {
   "cell_type": "code",
   "execution_count": 12,
   "id": "a864549d-6747-49bd-aa58-85e044a888a4",
   "metadata": {},
   "outputs": [],
   "source": [
    "NPV_short = sum(PVs) + face / (1+r)**T"
   ]
  },
  {
   "cell_type": "code",
   "execution_count": 13,
   "id": "0dfee69f-4a07-4353-a43b-328f36ddafb7",
   "metadata": {},
   "outputs": [
    {
     "name": "stdout",
     "output_type": "stream",
     "text": [
      "NPV:1141.4038\n"
     ]
    }
   ],
   "source": [
    "print('NPV:{:.4f}'.format(NPV_short))"
   ]
  },
  {
   "cell_type": "markdown",
   "id": "2703e56b-c2f5-4ec5-a1fd-f46eff7a5309",
   "metadata": {},
   "source": [
    "## 3. IRR 계산하기"
   ]
  },
  {
   "cell_type": "markdown",
   "id": "9ab74125-37d2-4b21-89e2-8d5291a390d6",
   "metadata": {},
   "source": [
    "아까와 같은 채권이 있는데, 이번엔 discount rate 을 모르고 대신 시장 가격을 알고 있다고 가정합시다.\n",
    "\n",
    "* Face value: \\$1,000\n",
    "* Maturity: 5 years\n",
    "* Coupon rate: 5\\% p.a. (per annum)\n",
    "* Coupon frequency: annual\n",
    "* Market price: \\$1,130\n",
    "\n",
    "그렇다면 이 채권의 할인율은 어떻게 계산하면 될까요?"
   ]
  },
  {
   "cell_type": "code",
   "execution_count": 15,
   "id": "167d2358-05ad-4a71-bf6f-ebfe2268d148",
   "metadata": {},
   "outputs": [],
   "source": [
    "face = 1000\n",
    "T = 5\n",
    "c = 0.05\n",
    "price = 1130"
   ]
  },
  {
   "cell_type": "code",
   "execution_count": 16,
   "id": "e7e62c79-5be7-4085-ac7f-cda0175a4d62",
   "metadata": {},
   "outputs": [],
   "source": [
    "def compute_npv(r):\n",
    "    PVs = [face * c / (1+r)**t for t in range(1,T+1)]\n",
    "    NPV_short = sum(PVs) + face / (1+r)**T\n",
    "    \n",
    "    return NPV_short"
   ]
  },
  {
   "cell_type": "code",
   "execution_count": 17,
   "id": "4e9b0ce5-9887-49eb-ad96-57e00dfa4946",
   "metadata": {},
   "outputs": [
    {
     "data": {
      "text/plain": [
       "1091.5941437438908"
      ]
     },
     "execution_count": 17,
     "metadata": {},
     "output_type": "execute_result"
    }
   ],
   "source": [
    "compute_npv(0.03)"
   ]
  },
  {
   "cell_type": "code",
   "execution_count": 18,
   "id": "7145442c-b72f-4ba0-9ec6-6b70d6b390b8",
   "metadata": {},
   "outputs": [
    {
     "name": "stdout",
     "output_type": "stream",
     "text": [
      "NPV if r = 2.0%: 1141.40\n",
      "NPV if r = 3.0%: 1091.59\n",
      "NPV if r = 5.0%: 1000.00\n"
     ]
    }
   ],
   "source": [
    "for r in [0.02,0.03,0.05]:\n",
    "    npv = compute_npv(r)\n",
    "    print('NPV if r = {}%: {:.2f}'.format(r*100,npv))"
   ]
  },
  {
   "cell_type": "code",
   "execution_count": 19,
   "id": "0babe857-4fb6-4951-b854-22c4b3014ec8",
   "metadata": {},
   "outputs": [],
   "source": [
    "from scipy import optimize"
   ]
  },
  {
   "cell_type": "code",
   "execution_count": 22,
   "id": "e254a599-296c-4079-a941-f81c638c15b4",
   "metadata": {},
   "outputs": [],
   "source": [
    "#error\n",
    "def error(r):\n",
    "    return price - compute_npv(r)"
   ]
  },
  {
   "cell_type": "code",
   "execution_count": 23,
   "id": "e0234638-2f02-4c07-9555-5770b5e8ebd5",
   "metadata": {},
   "outputs": [],
   "source": [
    "sol = optimize.root_scalar(error,bracket=[0.02,0.03])"
   ]
  },
  {
   "cell_type": "code",
   "execution_count": 24,
   "id": "8865cc05-9ae7-4e5b-bd15-0d8dc24eaa0e",
   "metadata": {},
   "outputs": [
    {
     "data": {
      "text/plain": [
       "      converged: True\n",
       "           flag: 'converged'\n",
       " function_calls: 6\n",
       "     iterations: 5\n",
       "           root: 0.022239858418338223"
      ]
     },
     "execution_count": 24,
     "metadata": {},
     "output_type": "execute_result"
    }
   ],
   "source": [
    "sol"
   ]
  },
  {
   "cell_type": "code",
   "execution_count": 26,
   "id": "9495ec31-f538-4f31-a814-98b7e04787db",
   "metadata": {},
   "outputs": [
    {
     "name": "stdout",
     "output_type": "stream",
     "text": [
      "Solution:2.2240%\n"
     ]
    }
   ],
   "source": [
    "print('Solution:{:.4f}%'.format(sol.root*100))"
   ]
  },
  {
   "cell_type": "code",
   "execution_count": 27,
   "id": "d9b64cec-8693-4eb7-922c-95105eb40320",
   "metadata": {},
   "outputs": [
    {
     "data": {
      "text/plain": [
       "1130.0000000017353"
      ]
     },
     "execution_count": 27,
     "metadata": {},
     "output_type": "execute_result"
    }
   ],
   "source": [
    "compute_npv(sol.root)"
   ]
  },
  {
   "cell_type": "markdown",
   "id": "4c8bfb2c-e21f-4bbb-a0b6-c8d04bf28eab",
   "metadata": {},
   "source": [
    "## Or you can use lambda to make it simple"
   ]
  },
  {
   "cell_type": "code",
   "execution_count": 28,
   "id": "6f3929e1-a318-44dc-b2cc-fec92ecca009",
   "metadata": {},
   "outputs": [
    {
     "data": {
      "text/plain": [
       "      converged: True\n",
       "           flag: 'converged'\n",
       " function_calls: 6\n",
       "     iterations: 5\n",
       "           root: 0.022239858418338223"
      ]
     },
     "execution_count": 28,
     "metadata": {},
     "output_type": "execute_result"
    }
   ],
   "source": [
    "optimize.root_scalar(lambda r:price-compute_npv(r),\n",
    "                    bracket=[0.02,0.03])"
   ]
  },
  {
   "cell_type": "markdown",
   "id": "9fc99425-3b86-44ee-abfe-331e9e2b03d7",
   "metadata": {},
   "source": [
    "## 4. YTM 과 NPV 관계 그래프 그리기"
   ]
  },
  {
   "cell_type": "markdown",
   "id": "41e2780b-55c2-40c8-a0e5-bb9c0b41897a",
   "metadata": {},
   "source": [
    "이번에도 아까와 동일한 채권입니다.\n",
    "\n",
    "* Face value: \\$1,000\n",
    "* Maturity: 5 years\n",
    "* Coupon rate: 5\\% p.a. (per annum)\n",
    "* Coupon frequency: annual\n",
    "\n",
    "다만 이번엔 YTM & 시장 가격 둘 다 몰라서 둘 사이의 관계를 그래프로 그리는게 목적입니다!"
   ]
  },
  {
   "cell_type": "code",
   "execution_count": 29,
   "id": "646955ff-8411-4cee-8a1a-c28b88d36d66",
   "metadata": {},
   "outputs": [],
   "source": [
    "import matplotlib.pyplot as plt"
   ]
  },
  {
   "cell_type": "code",
   "execution_count": 31,
   "id": "1d313e69-171f-428e-9b06-f8e12baf3b6f",
   "metadata": {},
   "outputs": [],
   "source": [
    "min_ytm = 0\n",
    "max_ytm = 0.10\n",
    "steps = 10"
   ]
  },
  {
   "cell_type": "code",
   "execution_count": 34,
   "id": "d83bee20-cae9-41e5-b560-83d0366447ee",
   "metadata": {},
   "outputs": [],
   "source": [
    "slope = (max_ytm - min_ytm) / steps"
   ]
  },
  {
   "cell_type": "code",
   "execution_count": 45,
   "id": "11bf8848-ba70-4a8c-aab5-fc24dd2726c1",
   "metadata": {},
   "outputs": [],
   "source": [
    "ytm = [min_ytm + slope * x for x in range(steps)]"
   ]
  },
  {
   "cell_type": "markdown",
   "id": "101a4628-b60f-4657-bae1-f8db83297f8e",
   "metadata": {},
   "source": [
    "## 또는 numpy를 사용해서 똑같이 만들 수 있습니다"
   ]
  },
  {
   "cell_type": "code",
   "execution_count": 46,
   "id": "4aea5c98-77d7-4c60-beb9-da0793ae3fb6",
   "metadata": {},
   "outputs": [],
   "source": [
    "import numpy as np"
   ]
  },
  {
   "cell_type": "code",
   "execution_count": 47,
   "id": "94e12a72-b1b3-40ba-b7f3-edf7bc2285f8",
   "metadata": {},
   "outputs": [],
   "source": [
    "incr = (max_ytm-min_ytm)/steps"
   ]
  },
  {
   "cell_type": "code",
   "execution_count": 48,
   "id": "e80e43b0-4b6d-4ee3-951e-83a59bbf26a7",
   "metadata": {},
   "outputs": [],
   "source": [
    "ytm2 = np.arange(min_ytm,max_ytm,incr)"
   ]
  },
  {
   "cell_type": "code",
   "execution_count": 49,
   "id": "bd6f9153-fc90-4ce7-b7c3-1ac4752d1376",
   "metadata": {},
   "outputs": [],
   "source": [
    "npv = [compute_npv(r) for r in ytm]"
   ]
  },
  {
   "cell_type": "code",
   "execution_count": 53,
   "id": "5281c704-2196-41ec-8b98-06252043b757",
   "metadata": {},
   "outputs": [
    {
     "data": {
      "image/png": "[encoded data removed]",
      "text/plain": [
       "<Figure size 432x288 with 1 Axes>"
      ]
     },
     "metadata": {
      "needs_background": "light"
     },
     "output_type": "display_data"
    }
   ],
   "source": [
    "plt.plot(ytm,npv)\n",
    "plt.plot([0,0.10],[1000,1000],linestyle='dashed', label='NPV=face value')\n",
    "plt.plot([0.05,0.05],[min(npv),max(npv)],linestyle='dashed',label='coupon rate = YTM')\n",
    "plt.xlabel('YTM')\n",
    "plt.ylabel('NPV')\n",
    "plt.show()"
   ]
  },
  {
   "cell_type": "code",
   "execution_count": null,
   "id": "3d8a347d-7068-4adf-aa26-9b0501f942b5",
   "metadata": {},
   "outputs": [],
   "source": []
  },
  {
   "cell_type": "code",
   "execution_count": null,
   "id": "89c3a84f-4d4a-4700-924f-7c658015d8c8",
   "metadata": {},
   "outputs": [],
   "source": []
  },
  {
   "cell_type": "code",
   "execution_count": null,
   "id": "5f930b6b-c956-4cf5-9f27-7298c8063a38",
   "metadata": {},
   "outputs": [],
   "source": []
  },
  {
   "cell_type": "code",
   "execution_count": null,
   "id": "21777526-c51f-4473-a862-8ff6bef0fb54",
   "metadata": {},
   "outputs": [],
   "source": []
  }
 ],
 "metadata": {
  "kernelspec": {
   "display_name": "Python 3",
   "language": "python",
   "name": "python3"
  },
  "language_info": {
   "codemirror_mode": {
    "name": "ipython",
    "version": 3
   },
   "file_extension": ".py",
   "mimetype": "text/x-python",
   "name": "python",
   "nbconvert_exporter": "python",
   "pygments_lexer": "ipython3",
   "version": "3.9.7"
  }
 },
 "nbformat": 4,
 "nbformat_minor": 5
}
